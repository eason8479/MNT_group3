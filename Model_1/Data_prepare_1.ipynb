{
 "cells": [
  {
   "cell_type": "markdown",
   "metadata": {},
   "source": [
    "# Prepare the Data For Training\n",
    "- Import require module\n",
    "- Import data\n",
    "- Prepare data\n",
    "- Save data as .csv file"
   ]
  },
  {
   "cell_type": "code",
   "execution_count": 1,
   "metadata": {},
   "outputs": [],
   "source": [
    "# read data_1.csv\n",
    "def read_data_1():\n",
    "    data_1 = []\n",
    "    with open(\"data_1.csv\") as f:\n",
    "        for line in f:\n",
    "            line = line.strip()\n",
    "            line = line.split(\",\")\n",
    "            data_1.append(line)\n",
    "    return data_1"
   ]
  },
  {
   "cell_type": "code",
   "execution_count": 2,
   "metadata": {},
   "outputs": [
    {
     "name": "stdout",
     "output_type": "stream",
     "text": [
      "x_train shape: (4, 6)\n",
      "y_train shape: (4, 2)\n",
      "x_test shape: (2, 6)\n",
      "y_test shape: (2, 2)\n"
     ]
    }
   ],
   "source": [
    "import numpy as np\n",
    "import torch\n",
    "import torch.nn.functional\n",
    "import pandas as pd\n",
    "\n",
    "# read data from database\n",
    "data = read_data_1()\n",
    "\n",
    "# trun data into pandas dataframe\n",
    "data = pd.DataFrame(data)\n",
    "\n",
    "# shuffle the data\n",
    "data = data.sample(frac=1).reset_index(drop=True)\n",
    "\n",
    "# shuffle the data\n",
    "data = data.sample(frac=1).reset_index(drop=True)\n",
    "\n",
    "# split data into x_data and y_data\n",
    "x_data = data.iloc[:, 1:7]\n",
    "y_data = data.iloc[:, 7]\n",
    "\n",
    "# one-hot encoding on y_data\n",
    "y_data = pd.get_dummies(y_data)\n",
    "\n",
    "# split data into train and test(80% train, 20% test)\n",
    "num_train = int(0.8 * len(data))\n",
    "\n",
    "x_train = x_data[:num_train]\n",
    "y_train = y_data[:num_train]\n",
    "\n",
    "x_test = x_data[num_train:]\n",
    "y_test = y_data[num_train:]\n",
    "\n",
    "# encoding on y_train and y_test(\"ture\" = 1, \"false\" = 0)\n",
    "y_train = y_train.astype(int)\n",
    "y_test = y_test.astype(int)\n",
    "\n",
    "# print out the shape of train and test data\n",
    "print('x_train shape:', x_train.shape)\n",
    "print('y_train shape:', y_train.shape)\n",
    "print('x_test shape:', x_test.shape)\n",
    "print('y_test shape:', y_test.shape)\n",
    "\n",
    "# save data into csv file\n",
    "# without index and title\n",
    "x_train.to_csv('x_train_1.csv', index=False, header=False)\n",
    "y_train.to_csv('y_train_1.csv', index=False, header=False)\n",
    "x_test.to_csv('x_test_1.csv', index=False, header=False)\n",
    "y_test.to_csv('y_test_1.csv', index=False, header=False)\n"
   ]
  }
 ],
 "metadata": {
  "kernelspec": {
   "display_name": "Python 3",
   "language": "python",
   "name": "python3"
  },
  "language_info": {
   "codemirror_mode": {
    "name": "ipython",
    "version": 3
   },
   "file_extension": ".py",
   "mimetype": "text/x-python",
   "name": "python",
   "nbconvert_exporter": "python",
   "pygments_lexer": "ipython3",
   "version": "3.11.2"
  }
 },
 "nbformat": 4,
 "nbformat_minor": 2
}
