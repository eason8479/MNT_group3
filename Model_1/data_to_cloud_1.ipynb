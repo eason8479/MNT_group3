{
 "cells": [
  {
   "cell_type": "code",
   "execution_count": 22,
   "id": "94e4abd3-345b-4d71-9d46-708259034181",
   "metadata": {},
   "outputs": [],
   "source": [
    "#Install Flask and numpy\n",
    "#!pip install flask\n",
    "#!pip install numpy"
   ]
  },
  {
   "cell_type": "code",
   "execution_count": 23,
   "metadata": {},
   "outputs": [],
   "source": [
    "#create Flask Client \n",
    "import flask\n",
    "import os\n",
    "import requests\n",
    "\n",
    "from numpy import genfromtxt\n",
    "import json\n",
    "import requests\n",
    "import torch"
   ]
  },
  {
   "cell_type": "code",
   "execution_count": 24,
   "id": "58800303-5689-428b-85a6-beff0766e663",
   "metadata": {},
   "outputs": [
    {
     "data": {
      "text/plain": [
       "'Base Test is OK'"
      ]
     },
     "execution_count": 24,
     "metadata": {},
     "output_type": "execute_result"
    }
   ],
   "source": [
    "url_base = 'http://192.168.50.168:25926/'\n",
    "response = requests.get(url_base)\n",
    "response.text"
   ]
  },
  {
   "cell_type": "code",
   "execution_count": 25,
   "id": "ed002e03-1702-43f8-82b9-e76ad65cb9a9",
   "metadata": {},
   "outputs": [
    {
     "data": {
      "text/plain": [
       "<Response [200]>"
      ]
     },
     "execution_count": 25,
     "metadata": {},
     "output_type": "execute_result"
    }
   ],
   "source": [
    "from numpy import genfromtxt\n",
    "import json\n",
    "\n",
    "#prepare dataset\n",
    "inputs = genfromtxt('x_train_1.csv', delimiter=',', dtype=None)\n",
    "labels = genfromtxt('y_train_1.csv', delimiter=',', dtype=None)\n",
    "\n",
    "#post dataset to cloud\n",
    "dict = {'inputs':inputs.tolist(), 'labels':labels.tolist()}\n",
    "#print(type(dict))\n",
    "\n",
    "json_dataset = json.dumps(dict)\n",
    "#print(json_dataset)\n",
    "\n",
    "url_baseset = 'http://192.168.50.168:25926/dataset_1'\n",
    "response = requests.post(url_baseset, json=json_dataset)\n",
    "\n",
    "response"
   ]
  },
  {
   "cell_type": "code",
   "execution_count": 26,
   "id": "94f3ac33-1bc8-4a51-9746-55842fda1ca1",
   "metadata": {
    "tags": []
   },
   "outputs": [
    {
     "data": {
      "text/plain": [
       "<Response [200]>"
      ]
     },
     "execution_count": 26,
     "metadata": {},
     "output_type": "execute_result"
    }
   ],
   "source": [
    "# train model using cloud\n",
    "url_toTrain = 'http://192.168.50.168:25926/train_1'\n",
    "response = requests.get(url_toTrain)\n",
    "response"
   ]
  },
  {
   "cell_type": "code",
   "execution_count": 27,
   "id": "61d727a4-c61c-443f-834a-7b2ad46021ea",
   "metadata": {},
   "outputs": [
    {
     "data": {
      "text/plain": [
       "['Epoch: 0 | Loss: 0.72094',\n",
       " 'Epoch: 100 | Loss: 0.71673',\n",
       " 'Epoch: 200 | Loss: 0.71267',\n",
       " 'Epoch: 300 | Loss: 0.70875',\n",
       " 'Epoch: 400 | Loss: 0.70496',\n",
       " 'Epoch: 500 | Loss: 0.70130',\n",
       " 'Epoch: 600 | Loss: 0.69776',\n",
       " 'Epoch: 700 | Loss: 0.69432',\n",
       " 'Epoch: 800 | Loss: 0.69100',\n",
       " 'Epoch: 900 | Loss: 0.68777']"
      ]
     },
     "execution_count": 27,
     "metadata": {},
     "output_type": "execute_result"
    }
   ],
   "source": [
    "# get training log\n",
    "url_log = 'http://192.168.50.168:25926/log_1'\n",
    "response = requests.get(url_log)\n",
    "response.json()"
   ]
  },
  {
   "cell_type": "code",
   "execution_count": 28,
   "id": "47b00256-a515-4f81-97d8-3a94406b3235",
   "metadata": {},
   "outputs": [
    {
     "name": "stdout",
     "output_type": "stream",
     "text": [
      "Accuracy: 50.00%\n"
     ]
    }
   ],
   "source": [
    "# use x_test_input and y_test_label to test the model\n",
    "x_test_input = genfromtxt('x_test_1.csv', delimiter=',', dtype=None)\n",
    "y_test_label = genfromtxt('y_test_1.csv', delimiter=',', dtype=None)\n",
    "\n",
    "# use model to predict(input x_test_input)\n",
    "url_log = 'http://192.168.50.168:25926/inference_1'\n",
    "json_inputs = json.dumps({ 'input':x_test_input.tolist()})\n",
    "response = requests.post(url_log, json=json_inputs)\n",
    "predicts = response.json()\n",
    "\n",
    "# trun predicts to torch tensor\n",
    "predicts = torch.tensor(predicts)\n",
    "\n",
    "# trun y_test_label to torch tensor\n",
    "y_test_label = torch.tensor(y_test_label)\n",
    "\n",
    "# compare the predict result with the test data\n",
    "corrects = 0\n",
    "for i in range(len(predicts)):\n",
    "    if torch.argmax(predicts[i]) == torch.argmax(y_test_label[i]):\n",
    "        corrects += 1\n",
    "\n",
    "accruacy = corrects/len(predicts)*100\n",
    "\n",
    "# print out the accuracy\n",
    "print(f'Accuracy: {accruacy:.2f}%')\n"
   ]
  }
 ],
 "metadata": {
  "kernelspec": {
   "display_name": "Python 3 (ipykernel)",
   "language": "python",
   "name": "python3"
  },
  "language_info": {
   "codemirror_mode": {
    "name": "ipython",
    "version": 3
   },
   "file_extension": ".py",
   "mimetype": "text/x-python",
   "name": "python",
   "nbconvert_exporter": "python",
   "pygments_lexer": "ipython3",
   "version": "3.11.2"
  }
 },
 "nbformat": 4,
 "nbformat_minor": 5
}
