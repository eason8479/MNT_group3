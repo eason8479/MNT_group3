{
 "cells": [
  {
   "cell_type": "code",
   "execution_count": 32,
   "id": "94e4abd3-345b-4d71-9d46-708259034181",
   "metadata": {},
   "outputs": [
    {
     "name": "stdout",
     "output_type": "stream",
     "text": [
      "Requirement already satisfied: flask in c:\\users\\linea\\appdata\\local\\programs\\python\\python311\\lib\\site-packages (3.0.0)\n",
      "Requirement already satisfied: Werkzeug>=3.0.0 in c:\\users\\linea\\appdata\\local\\programs\\python\\python311\\lib\\site-packages (from flask) (3.0.1)\n",
      "Requirement already satisfied: Jinja2>=3.1.2 in c:\\users\\linea\\appdata\\local\\programs\\python\\python311\\lib\\site-packages (from flask) (3.1.2)\n",
      "Requirement already satisfied: itsdangerous>=2.1.2 in c:\\users\\linea\\appdata\\local\\programs\\python\\python311\\lib\\site-packages (from flask) (2.1.2)\n",
      "Requirement already satisfied: click>=8.1.3 in c:\\users\\linea\\appdata\\local\\programs\\python\\python311\\lib\\site-packages (from flask) (8.1.7)\n",
      "Requirement already satisfied: blinker>=1.6.2 in c:\\users\\linea\\appdata\\local\\programs\\python\\python311\\lib\\site-packages (from flask) (1.7.0)\n",
      "Requirement already satisfied: colorama in c:\\users\\linea\\appdata\\local\\programs\\python\\python311\\lib\\site-packages (from click>=8.1.3->flask) (0.4.6)\n",
      "Requirement already satisfied: MarkupSafe>=2.0 in c:\\users\\linea\\appdata\\local\\programs\\python\\python311\\lib\\site-packages (from Jinja2>=3.1.2->flask) (2.1.3)\n",
      "Requirement already satisfied: numpy in c:\\users\\linea\\appdata\\local\\programs\\python\\python311\\lib\\site-packages (1.23.5)\n"
     ]
    }
   ],
   "source": [
    "#Install Flask and numpy\n",
    "!pip install flask\n",
    "!pip install numpy"
   ]
  },
  {
   "cell_type": "code",
   "execution_count": 1,
   "metadata": {},
   "outputs": [],
   "source": [
    "#create Flask Client \n",
    "import flask\n",
    "import os\n",
    "import requests\n",
    "\n",
    "from numpy import genfromtxt\n",
    "import json\n",
    "import requests\n",
    "import torch"
   ]
  },
  {
   "cell_type": "code",
   "execution_count": 2,
   "id": "58800303-5689-428b-85a6-beff0766e663",
   "metadata": {},
   "outputs": [
    {
     "data": {
      "text/plain": [
       "'Base Test is OK'"
      ]
     },
     "execution_count": 2,
     "metadata": {},
     "output_type": "execute_result"
    }
   ],
   "source": [
    "url_base = 'http://192.168.50.168:25926/'\n",
    "response = requests.get(url_base)\n",
    "response.text"
   ]
  },
  {
   "cell_type": "code",
   "execution_count": 36,
   "id": "ed002e03-1702-43f8-82b9-e76ad65cb9a9",
   "metadata": {},
   "outputs": [
    {
     "data": {
      "text/plain": [
       "<Response [200]>"
      ]
     },
     "execution_count": 36,
     "metadata": {},
     "output_type": "execute_result"
    }
   ],
   "source": [
    "from numpy import genfromtxt\n",
    "import json\n",
    "\n",
    "#prepare dataset\n",
    "inputs = genfromtxt('my_inputs.csv', delimiter=',', dtype=None)\n",
    "labels = genfromtxt('my_labels.csv', delimiter=',', dtype=None)\n",
    "#inputs[:5],labels[:5]\n",
    "\n",
    "#post dataset to cloud\n",
    "dict = {'inputs':inputs.tolist(), 'labels':labels.tolist()}\n",
    "#print(type(dict))\n",
    "\n",
    "json_dataset = json.dumps(dict )\n",
    "#print(json_dataset)\n",
    "\n",
    "url_baseset = 'http://192.168.50.168:25926/dataset'\n",
    "response = requests.post(url_baseset, json=json_dataset)\n",
    "\n",
    "response"
   ]
  },
  {
   "cell_type": "code",
   "execution_count": 37,
   "id": "94f3ac33-1bc8-4a51-9746-55842fda1ca1",
   "metadata": {
    "tags": []
   },
   "outputs": [
    {
     "data": {
      "text/plain": [
       "<Response [200]>"
      ]
     },
     "execution_count": 37,
     "metadata": {},
     "output_type": "execute_result"
    }
   ],
   "source": [
    "# train model using cloud\n",
    "url_toTrain = 'http://192.168.50.168:25926/train'\n",
    "response = requests.get(url_toTrain)\n",
    "response"
   ]
  },
  {
   "cell_type": "code",
   "execution_count": 38,
   "id": "61d727a4-c61c-443f-834a-7b2ad46021ea",
   "metadata": {},
   "outputs": [
    {
     "data": {
      "text/plain": [
       "['Epoch: 0 | Loss: 0.94018',\n",
       " 'Epoch: 100 | Loss: 0.22721',\n",
       " 'Epoch: 200 | Loss: 0.19472',\n",
       " 'Epoch: 300 | Loss: 0.17452',\n",
       " 'Epoch: 400 | Loss: 0.15682',\n",
       " 'Epoch: 500 | Loss: 0.14419',\n",
       " 'Epoch: 600 | Loss: 0.13439',\n",
       " 'Epoch: 700 | Loss: 0.12830',\n",
       " 'Epoch: 800 | Loss: 0.12175',\n",
       " 'Epoch: 900 | Loss: 0.11518',\n",
       " 'Epoch: 1000 | Loss: 0.11613',\n",
       " 'Epoch: 1100 | Loss: 0.11256',\n",
       " 'Epoch: 1200 | Loss: 0.11116',\n",
       " 'Epoch: 1300 | Loss: 0.10269',\n",
       " 'Epoch: 1400 | Loss: 0.10217',\n",
       " 'Epoch: 1500 | Loss: 0.10569',\n",
       " 'Epoch: 1600 | Loss: 0.09556',\n",
       " 'Epoch: 1700 | Loss: 0.11724',\n",
       " 'Epoch: 1800 | Loss: 0.08783',\n",
       " 'Epoch: 1900 | Loss: 0.09002']"
      ]
     },
     "execution_count": 38,
     "metadata": {},
     "output_type": "execute_result"
    }
   ],
   "source": [
    "# get training log\n",
    "url_log = 'http://192.168.50.168:25926/log'\n",
    "response = requests.get(url_log)\n",
    "response.json()"
   ]
  },
  {
   "cell_type": "code",
   "execution_count": 39,
   "id": "d6290693-3030-4495-aabd-f87944b87c49",
   "metadata": {},
   "outputs": [
    {
     "name": "stdout",
     "output_type": "stream",
     "text": [
      "[0.9221413135528564, 0.02968962863087654, 0.04816901311278343]\n"
     ]
    }
   ],
   "source": [
    "# inference using cloud\n",
    "url_log = 'http://192.168.50.168:25926/inference'\n",
    "json_inputs = json.dumps({ 'input':[4,2]})\n",
    "response = requests.post(url_log, json=json_inputs)\n",
    "response.json()\n",
    "\n",
    "# output the result\n",
    "predicts = response.json()\n",
    "print(predicts)\n"
   ]
  },
  {
   "cell_type": "code",
   "execution_count": 40,
   "id": "99d2a384-fc2c-4402-8c69-2d813bba5f92",
   "metadata": {},
   "outputs": [
    {
     "name": "stdout",
     "output_type": "stream",
     "text": [
      "[1.0, 3.58014284884689e-10, 1.941243177971084e-18]\n"
     ]
    }
   ],
   "source": [
    "# inference using cloud\n",
    "url_log = 'http://192.168.50.168:25926/inference'\n",
    "json_inputs = json.dumps({ 'input':[1,8]})\n",
    "response = requests.post(url_log, json=json_inputs)\n",
    "response.json()\n",
    "\n",
    "# output the result\n",
    "predicts = response.json()\n",
    "print(predicts)\n"
   ]
  },
  {
   "cell_type": "code",
   "execution_count": 41,
   "id": "22451e19-ae43-4fe2-a6bd-e916b310eae9",
   "metadata": {},
   "outputs": [
    {
     "name": "stdout",
     "output_type": "stream",
     "text": [
      "[1.0, 5.8176670690427136e-21, 3.7465468796865626e-31]\n"
     ]
    }
   ],
   "source": [
    "# inference using cloud\n",
    "url_log = 'http://192.168.50.168:25926/inference'\n",
    "json_inputs = json.dumps({ 'input':[8,12]})\n",
    "response = requests.post(url_log, json=json_inputs)\n",
    "response.json()\n",
    "\n",
    "# output the result\n",
    "predicts = response.json()\n",
    "print(predicts)\n"
   ]
  },
  {
   "cell_type": "code",
   "execution_count": 18,
   "id": "47b00256-a515-4f81-97d8-3a94406b3235",
   "metadata": {},
   "outputs": [
    {
     "name": "stdout",
     "output_type": "stream",
     "text": [
      "Accuracy: 93.33%\n"
     ]
    }
   ],
   "source": [
    "# use x_test_input and y_test_label to test the model\n",
    "x_test_input = genfromtxt('my_test_inputs.csv', delimiter=',', dtype=None)\n",
    "y_test_label = genfromtxt('my_test_labels.csv', delimiter=',', dtype=None)\n",
    "\n",
    "# use model to predict(input x_test_input)\n",
    "url_log = 'http://192.168.50.168:25926/inference'\n",
    "json_inputs = json.dumps({ 'input':x_test_input.tolist()})\n",
    "response = requests.post(url_log, json=json_inputs)\n",
    "predicts = response.json()\n",
    "\n",
    "# trun predicts to torch tensor\n",
    "predicts = torch.tensor(predicts)\n",
    "\n",
    "# trun y_test_label to torch tensor\n",
    "y_test_label = torch.tensor(y_test_label)\n",
    "\n",
    "# compare the predict result with the test data\n",
    "corrects = 0\n",
    "for i in range(len(predicts)):\n",
    "    if torch.argmax(predicts[i]) == torch.argmax(y_test_label[i]):\n",
    "        corrects += 1\n",
    "\n",
    "accruacy = corrects/len(predicts)*100\n",
    "\n",
    "# print out the accuracy\n",
    "print(f'Accuracy: {accruacy:.2f}%')\n"
   ]
  }
 ],
 "metadata": {
  "kernelspec": {
   "display_name": "Python 3 (ipykernel)",
   "language": "python",
   "name": "python3"
  },
  "language_info": {
   "codemirror_mode": {
    "name": "ipython",
    "version": 3
   },
   "file_extension": ".py",
   "mimetype": "text/x-python",
   "name": "python",
   "nbconvert_exporter": "python",
   "pygments_lexer": "ipython3",
   "version": "3.11.2"
  }
 },
 "nbformat": 4,
 "nbformat_minor": 5
}
