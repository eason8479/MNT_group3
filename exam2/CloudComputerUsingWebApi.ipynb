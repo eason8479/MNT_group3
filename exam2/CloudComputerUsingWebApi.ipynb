{
 "cells": [
  {
   "cell_type": "code",
   "execution_count": 1,
   "id": "92e915df",
   "metadata": {},
   "outputs": [],
   "source": [
    "import numpy as np\n",
    "import torch\n",
    "import torch.nn as nn\n",
    "import torch.nn.functional\n",
    "from flask import Flask, request, jsonify,send_from_directory\n",
    "import json\n",
    "#import onnxruntime"
   ]
  },
  {
   "cell_type": "code",
   "execution_count": 2,
   "id": "a3495c56",
   "metadata": {},
   "outputs": [],
   "source": [
    "# demo code \n",
    "app = Flask(__name__)\n",
    "\n",
    "# global variables\n",
    "global train_logs \n",
    "softmax = nn.Softmax(dim=0)\n",
    "\n",
    "@app.route('/')\n",
    "def base():\n",
    "    return \"Base Test is OK\" # may return a html file"
   ]
  },
  {
   "cell_type": "code",
   "execution_count": 3,
   "id": "2c25359f",
   "metadata": {},
   "outputs": [],
   "source": [
    "# interface for users to upload dataset\n",
    "@app.route('/dataset', methods=[\"POST\"])\n",
    "def getDataSet():\n",
    "    global inputs\n",
    "    global labels \n",
    "    request_content = request.get_json()    \n",
    "    #print(type(request_content))\n",
    "    \n",
    "    if(isinstance(request_content, str)):\n",
    "        request_content = json.loads(request_content)\n",
    "        #print(type(request_content))\n",
    "    \n",
    "    inputs = request_content[\"inputs\"]\n",
    "    labels = request_content[\"labels\"]\n",
    "    \n",
    "    inputs = torch.FloatTensor(inputs)\n",
    "    labels = torch.FloatTensor(labels)    \n",
    "    \n",
    "    response = app.response_class(\n",
    "        response=json.dumps(request_content),\n",
    "        status=200,\n",
    "        mimetype='application/json'\n",
    "    )\n",
    "        \n",
    "    return response\n",
    "    \n",
    "# if dataset is meta format, like image, json, yaml, ...\n",
    "#   students may implement the approach to save the file or store data into an NoSQL database"
   ]
  },
  {
   "cell_type": "code",
   "execution_count": 4,
   "id": "a6dad74d",
   "metadata": {},
   "outputs": [
    {
     "name": "stdout",
     "output_type": "stream",
     "text": [
      "device is cpu\n",
      "<bound method Module.parameters of MyModel(\n",
      "  (linear_1): Linear(in_features=7, out_features=20, bias=True)\n",
      "  (linear_2): Linear(in_features=20, out_features=20, bias=True)\n",
      "  (linear_3): Linear(in_features=20, out_features=20, bias=True)\n",
      "  (linear_4): Linear(in_features=20, out_features=2, bias=True)\n",
      ")>\n"
     ]
    }
   ],
   "source": [
    "# Make device agnostic code\n",
    "device = \"cpu\"\n",
    "print(f\"device is {device}\")\n",
    "\n",
    "class MyModel(nn.Module):\n",
    "    def __init__(self, input_dim, output_dim):\n",
    "        super(MyModel, self).__init__()\n",
    "        hidden_dim = 20\n",
    "        self.linear_1 = nn.Linear(input_dim, hidden_dim)\n",
    "        self.linear_2 = nn.Linear(hidden_dim, hidden_dim)\n",
    "        self.linear_3 = nn.Linear(hidden_dim, hidden_dim)\n",
    "        self.linear_4 = nn.Linear(hidden_dim, output_dim)\n",
    "        #self.LogSoftmax = nn.LogSoftmax(dim=0)\n",
    "        #self.relu = nn.ReLU()\n",
    "\n",
    "    def forward(self, inputs):\n",
    "        outputs = self.linear_1(inputs).requires_grad_()      \n",
    "        outputs = self.linear_2(outputs).requires_grad_()\n",
    "        outputs = self.linear_3(outputs).requires_grad_()\n",
    "        outputs = self.linear_4(outputs).requires_grad_()\n",
    "        #outputs = self.relu(outputs).requires_grad_()\n",
    "        #outputs = self.LogSoftmax(outputs).requires_grad_()\n",
    "        return outputs\n",
    "        \n",
    "# 4. Create an instance of the model and send it to target device\n",
    "torch.manual_seed(42)\n",
    "model = MyModel(7,2).to(device)\n",
    "\n",
    "print(model.parameters)# Type of parameter object"
   ]
  },
  {
   "cell_type": "code",
   "execution_count": 5,
   "id": "892e513c",
   "metadata": {},
   "outputs": [],
   "source": [
    "def encodeLabel(onehats,dim):\n",
    "    labelcoding = []\n",
    "    for code in onehats:\n",
    "        value = 0\n",
    "        for idx in range(dim):\n",
    "            if(code[idx]==1):\n",
    "                value = idx\n",
    "        labelcoding.append(value)\n",
    "    labelcoding = torch.FloatTensor(labelcoding) \n",
    "    return labelcoding  "
   ]
  },
  {
   "cell_type": "code",
   "execution_count": 6,
   "id": "02fd96c2",
   "metadata": {},
   "outputs": [],
   "source": [
    "# Create a loss function\n",
    "criterion = nn.CrossEntropyLoss()  \n",
    "\n",
    "# Create an optimizer\n",
    "learning_rate = 0.0001\n",
    "optimizer = torch.optim.SGD(params=model.parameters(),lr=learning_rate)\n",
    "\n",
    "@app.route(\"/train/start\", methods=['GET', 'POST'])\n",
    "def start():\n",
    "    return \"Busy, system is now training\" # may return a html file\n",
    "\n",
    "@app.route(\"/train/training\", methods=['GET', 'POST'])\n",
    "def trainModel():\n",
    "    global train_logs\n",
    "    global inputs\n",
    "    global labels\n",
    "    \n",
    "    train_logs = []    \n",
    "    num_epochs = 10000 # Train for longer\\\n",
    "    softmax = nn.Softmax(dim=0)\n",
    "    \n",
    "    # Put data to target device\n",
    "    # device = \"cuda\" if torch.cuda.is_available() else \"cpu\"# Enable CUDA if possible\n",
    "    device = \"cpu\"\n",
    "    print(f\"device is {device}\")\n",
    "    \n",
    "    model.to(device)\n",
    "    \n",
    "    labels=encodeLabel(labels,2)\n",
    "    inputs, labels = inputs.to(device), labels.to(device)\n",
    "\n",
    "    for epoch in range(num_epochs):\n",
    "        predicts = model(inputs)\n",
    "        loss = criterion(predicts,labels.long() )  # https://www.cnblogs.com/blogwangwang/p/12018897.html\n",
    "        optimizer.zero_grad()\n",
    "        loss.backward()\n",
    "        optimizer.step()\n",
    "\n",
    "    # Print out what's happening every 10 epochs\n",
    "        if epoch % 100 == 0:\n",
    "            train_logs.append(f\"Epoch: {epoch} | Loss: {loss:.5f}\")\n",
    "    \n",
    "    return \"OK\"\n",
    "\n",
    "@app.route(\"/train/end\", methods=['GET', 'POST'])\n",
    "def end():\n",
    "    return \"Idle, training is finished.\" # may return a html file\n",
    "\n"
   ]
  },
  {
   "cell_type": "code",
   "execution_count": 7,
   "id": "e1b21881",
   "metadata": {},
   "outputs": [],
   "source": [
    "@app.route(\"/trainedModel\", methods=['GET'])\n",
    "def getTrainedModel():\n",
    "    x = [1,2,3]\n",
    "    x = torch.FloatTensor(x).to(device)\n",
    "    model.eval()\n",
    "    torch.onnx.export(model,x,\"trainedModel.onnx\")\n",
    "    \n",
    "    try:\n",
    "        return send_from_directory('' , 'trainedModel.onnx', as_attachment=True)\n",
    "    except FileNotFoundError:\n",
    "        abort(404)\n",
    "\n"
   ]
  },
  {
   "cell_type": "code",
   "execution_count": 8,
   "id": "f257fe7a",
   "metadata": {},
   "outputs": [],
   "source": [
    "@app.route(\"/log\", methods=['GET'])\n",
    "def getTrainingLog():    \n",
    "    response = app.response_class(\n",
    "        response=json.dumps(train_logs),\n",
    "        status=200,\n",
    "        mimetype='application/json'\n",
    "    )\n",
    "    return response"
   ]
  },
  {
   "cell_type": "code",
   "execution_count": 9,
   "id": "e645d9a0",
   "metadata": {},
   "outputs": [],
   "source": [
    "@app.route(\"/inference\", methods=['POST'])\n",
    "def inference():\n",
    "    device = \"cpu\"\n",
    "    request_content = request.get_json() \n",
    "    if(isinstance(request_content, str)):\n",
    "        request_content = json.loads(request_content)\n",
    "    input_data = request_content[\"input\"]\n",
    "    \n",
    "    print(input_data)\n",
    "    \n",
    "    input_data = torch.FloatTensor(input_data)\n",
    "    input_data = input_data.to(device)\n",
    "    result = softmax(model(input_data)).tolist()\n",
    "    \n",
    "    response = app.response_class(\n",
    "        response=json.dumps(result),\n",
    "        status=200,\n",
    "        mimetype='application/json'\n",
    "    ) \n",
    "    return response"
   ]
  },
  {
   "cell_type": "code",
   "execution_count": null,
   "id": "73665af9",
   "metadata": {},
   "outputs": [
    {
     "name": "stdout",
     "output_type": "stream",
     "text": [
      " * Serving Flask app '__main__' (lazy loading)\n",
      " * Environment: production\n",
      "\u001b[31m   WARNING: This is a development server. Do not use it in a production deployment.\u001b[0m\n",
      "\u001b[2m   Use a production WSGI server instead.\u001b[0m\n",
      " * Debug mode: off\n"
     ]
    },
    {
     "name": "stderr",
     "output_type": "stream",
     "text": [
      " * Running on all addresses.\n",
      "   WARNING: This is a development server. Do not use it in a production deployment.\n",
      " * Running on http://172.17.0.21:5000/ (Press CTRL+C to quit)\n",
      "192.168.50.109 - - [06/Dec/2023 11:32:31] \"POST /inference HTTP/1.1\" 200 -\n"
     ]
    },
    {
     "name": "stdout",
     "output_type": "stream",
     "text": [
      "[9.9215716796875, -1.4173673828125, 0.7493851196289062, -6.511450381679389, 6.801526717557252, 0.9236641221374046, 0.0]\n"
     ]
    },
    {
     "name": "stderr",
     "output_type": "stream",
     "text": [
      "192.168.50.109 - - [06/Dec/2023 11:32:33] \"POST /inference HTTP/1.1\" 200 -\n"
     ]
    },
    {
     "name": "stdout",
     "output_type": "stream",
     "text": [
      "[9.967061511230469, -1.2856862915039062, 0.7206546997070312, -6.5038167938931295, 6.778625954198473, 1.183206106870229, 0.0]\n"
     ]
    },
    {
     "name": "stderr",
     "output_type": "stream",
     "text": [
      "192.168.50.109 - - [06/Dec/2023 11:32:36] \"POST /inference HTTP/1.1\" 200 -\n"
     ]
    },
    {
     "name": "stdout",
     "output_type": "stream",
     "text": [
      "[9.873687646484374, -0.603338818359375, 0.5363011718749999, -6.061068702290076, 10.412213740458014, 0.2595419847328244, 0.425]\n"
     ]
    },
    {
     "name": "stderr",
     "output_type": "stream",
     "text": [
      "192.168.50.109 - - [06/Dec/2023 11:32:38] \"POST /inference HTTP/1.1\" 200 -\n"
     ]
    },
    {
     "name": "stdout",
     "output_type": "stream",
     "text": [
      "[10.172962854003906, -1.484405029296875, 0.469263525390625, -9.900763358778626, 5.8320610687022905, 1.4809160305343512, 0.65]\n"
     ]
    },
    {
     "name": "stderr",
     "output_type": "stream",
     "text": [
      "192.168.50.109 - - [06/Dec/2023 11:32:40] \"POST /inference HTTP/1.1\" 200 -\n",
      "192.168.2.107 - - [06/Dec/2023 11:32:40] \"GET / HTTP/1.1\" 200 -\n"
     ]
    },
    {
     "name": "stdout",
     "output_type": "stream",
     "text": [
      "[9.631873278808593, -2.760514514160156, 0.22026655273437498, -10.98473282442748, 7.114503816793893, -0.9923664122137404, 0.65]\n"
     ]
    },
    {
     "name": "stderr",
     "output_type": "stream",
     "text": [
      "192.168.2.107 - - [06/Dec/2023 11:32:41] \"POST /dataset HTTP/1.1\" 200 -\n",
      "192.168.2.107 - - [06/Dec/2023 11:32:41] \"GET /train/start HTTP/1.1\" 200 -\n"
     ]
    },
    {
     "name": "stdout",
     "output_type": "stream",
     "text": [
      "device is cpu\n"
     ]
    },
    {
     "name": "stderr",
     "output_type": "stream",
     "text": [
      "192.168.50.109 - - [06/Dec/2023 11:32:43] \"POST /inference HTTP/1.1\" 200 -\n"
     ]
    },
    {
     "name": "stdout",
     "output_type": "stream",
     "text": [
      "[10.577582934570312, -1.848323681640625, 1.2832920898437499, -9.572519083969466, 4.595419847328245, -0.4198473282442748, 0.65]\n"
     ]
    },
    {
     "name": "stderr",
     "output_type": "stream",
     "text": [
      "192.168.50.109 - - [06/Dec/2023 11:32:45] \"POST /inference HTTP/1.1\" 200 -\n"
     ]
    },
    {
     "name": "stdout",
     "output_type": "stream",
     "text": [
      "[9.926360083007811, -1.3670891479492187, 0.7493851196289062, -6.67175572519084, 6.709923664122138, 1.1374045801526718, 0.45]\n"
     ]
    },
    {
     "name": "stderr",
     "output_type": "stream",
     "text": [
      "192.168.2.107 - - [06/Dec/2023 11:32:46] \"GET /train/training HTTP/1.1\" 200 -\n",
      "192.168.2.107 - - [06/Dec/2023 11:32:46] \"GET /train/end HTTP/1.1\" 200 -\n",
      "192.168.2.107 - - [06/Dec/2023 11:32:46] \"GET /log HTTP/1.1\" 200 -\n",
      "192.168.50.109 - - [06/Dec/2023 11:32:47] \"POST /inference HTTP/1.1\" 200 -\n"
     ]
    },
    {
     "name": "stdout",
     "output_type": "stream",
     "text": [
      "[10.034099157714843, -1.3192051147460937, 0.7038952880859375, -6.564885496183206, 6.580152671755725, 1.2061068702290076, 0.0]\n"
     ]
    },
    {
     "name": "stderr",
     "output_type": "stream",
     "text": [
      "192.168.50.109 - - [06/Dec/2023 11:32:49] \"POST /inference HTTP/1.1\" 200 -\n"
     ]
    },
    {
     "name": "stdout",
     "output_type": "stream",
     "text": [
      "[9.816226806640625, -1.4006079711914061, 0.6416460449218749, -6.534351145038168, 6.564885496183206, 1.1984732824427482, 0.0]\n"
     ]
    },
    {
     "name": "stderr",
     "output_type": "stream",
     "text": [
      "192.168.50.109 - - [06/Dec/2023 11:32:52] \"POST /inference HTTP/1.1\" 200 -\n"
     ]
    },
    {
     "name": "stdout",
     "output_type": "stream",
     "text": [
      "[7.501033801269531, -1.7190367919921874, 0.6655880615234374, -8.694656488549619, 5.3816793893129775, 1.2366412213740459, 0.15]\n"
     ]
    },
    {
     "name": "stderr",
     "output_type": "stream",
     "text": [
      "192.168.50.109 - - [06/Dec/2023 11:32:54] \"POST /inference HTTP/1.1\" 200 -\n"
     ]
    },
    {
     "name": "stdout",
     "output_type": "stream",
     "text": [
      "[9.351751684570312, -2.1930887207031247, -0.07900865478515624, -8.030534351145038, 6.656488549618321, 1.3587786259541985, 0.5]\n"
     ]
    },
    {
     "name": "stderr",
     "output_type": "stream",
     "text": [
      "192.168.50.109 - - [06/Dec/2023 11:32:56] \"POST /inference HTTP/1.1\" 200 -\n"
     ]
    },
    {
     "name": "stdout",
     "output_type": "stream",
     "text": [
      "[10.536881506347656, -3.459621398925781, 0.15083470458984374, -7.66412213740458, 9.564885496183207, 0.8015267175572519, 0.65]\n"
     ]
    },
    {
     "name": "stderr",
     "output_type": "stream",
     "text": [
      "192.168.50.109 - - [06/Dec/2023 11:32:58] \"POST /inference HTTP/1.1\" 200 -\n"
     ]
    },
    {
     "name": "stdout",
     "output_type": "stream",
     "text": [
      "[13.144167114257812, -1.2497732666015624, 0.6153098266601562, -4.641221374045801, 9.213740458015268, 0.7557251908396947, 0.45]\n"
     ]
    },
    {
     "name": "stderr",
     "output_type": "stream",
     "text": [
      "192.168.50.109 - - [06/Dec/2023 11:33:01] \"POST /inference HTTP/1.1\" 200 -\n"
     ]
    },
    {
     "name": "stdout",
     "output_type": "stream",
     "text": [
      "[10.601524951171875, 0.86191259765625, 0.4429273071289062, -5.862595419847328, 4.67175572519084, 1.6946564885496183, 0.55]\n"
     ]
    },
    {
     "name": "stderr",
     "output_type": "stream",
     "text": [
      "192.168.50.109 - - [06/Dec/2023 11:33:03] \"POST /inference HTTP/1.1\" 200 -\n"
     ]
    },
    {
     "name": "stdout",
     "output_type": "stream",
     "text": [
      "[10.290278735351562, -0.7948749511718749, 1.1635820068359375, -8.65648854961832, 7.129770992366412, 2.3053435114503817, 0.6]\n"
     ]
    },
    {
     "name": "stderr",
     "output_type": "stream",
     "text": [
      "192.168.50.109 - - [06/Dec/2023 11:33:05] \"POST /inference HTTP/1.1\" 200 -\n"
     ]
    },
    {
     "name": "stdout",
     "output_type": "stream",
     "text": [
      "[10.254365710449218, 0.031124621582031248, 1.0678139404296874, -7.427480916030534, 5.961832061068702, 0.8778625954198473, 0.5]\n"
     ]
    },
    {
     "name": "stderr",
     "output_type": "stream",
     "text": [
      "192.168.50.109 - - [06/Dec/2023 11:33:08] \"POST /inference HTTP/1.1\" 200 -\n"
     ]
    },
    {
     "name": "stdout",
     "output_type": "stream",
     "text": [
      "[9.433154541015625, -2.6408044311523438, 0.9888052856445312, -3.984732824427481, 5.099236641221374, 0.015267175572519083, 0.525]\n"
     ]
    },
    {
     "name": "stderr",
     "output_type": "stream",
     "text": [
      "192.168.50.109 - - [06/Dec/2023 11:33:10] \"POST /inference HTTP/1.1\" 200 -\n"
     ]
    },
    {
     "name": "stdout",
     "output_type": "stream",
     "text": [
      "[9.41639512939453, -0.5123591552734374, 1.3575123413085937, -7.5038167938931295, 5.0534351145038165, 3.2442748091603053, 0.575]\n"
     ]
    },
    {
     "name": "stderr",
     "output_type": "stream",
     "text": [
      "192.168.50.109 - - [06/Dec/2023 11:33:12] \"POST /inference HTTP/1.1\" 200 -\n"
     ]
    },
    {
     "name": "stdout",
     "output_type": "stream",
     "text": [
      "[10.788272680664061, -1.47482822265625, 0.6200982299804687, -5.587786259541985, 6.366412213740458, 1.786259541984733, 0.525]\n"
     ]
    },
    {
     "name": "stderr",
     "output_type": "stream",
     "text": [
      "192.168.50.109 - - [06/Dec/2023 11:33:14] \"POST /inference HTTP/1.1\" 200 -\n"
     ]
    },
    {
     "name": "stdout",
     "output_type": "stream",
     "text": [
      "[10.251971508789062, -1.0223241088867188, 0.8499415893554687, -2.954198473282443, 6.9465648854961835, 0.33587786259541985, 0.525]\n"
     ]
    },
    {
     "name": "stderr",
     "output_type": "stream",
     "text": [
      "192.168.50.109 - - [06/Dec/2023 11:33:17] \"POST /inference HTTP/1.1\" 200 -\n"
     ]
    },
    {
     "name": "stdout",
     "output_type": "stream",
     "text": [
      "[7.862558251953125, -1.5107412475585937, -0.13646949462890623, -7.099236641221374, 4.305343511450381, 2.3893129770992365, 0.55]\n"
     ]
    },
    {
     "name": "stderr",
     "output_type": "stream",
     "text": [
      "192.168.50.109 - - [06/Dec/2023 11:33:19] \"POST /inference HTTP/1.1\" 200 -\n"
     ]
    },
    {
     "name": "stdout",
     "output_type": "stream",
     "text": [
      "[9.811438403320311, -0.97683427734375, 0.488417138671875, -7.145038167938932, 6.740458015267175, -0.8702290076335878, 0.575]\n"
     ]
    },
    {
     "name": "stderr",
     "output_type": "stream",
     "text": [
      "192.168.50.109 - - [06/Dec/2023 11:33:21] \"POST /inference HTTP/1.1\" 200 -\n"
     ]
    },
    {
     "name": "stdout",
     "output_type": "stream",
     "text": [
      "[9.79946739501953, -2.04943662109375, 0.23702596435546874, -6.290076335877862, 11.076335877862595, 1.1908396946564885, 0.525]\n"
     ]
    },
    {
     "name": "stderr",
     "output_type": "stream",
     "text": [
      "192.168.50.109 - - [06/Dec/2023 11:33:23] \"POST /inference HTTP/1.1\" 200 -\n"
     ]
    },
    {
     "name": "stdout",
     "output_type": "stream",
     "text": [
      "[9.370905297851563, -1.6304513305664061, 0.33039982910156246, -1.9923664122137406, 9.717557251908397, 1.5114503816793894, 0.5]\n"
     ]
    },
    {
     "name": "stderr",
     "output_type": "stream",
     "text": [
      "192.168.50.109 - - [06/Dec/2023 11:33:26] \"POST /inference HTTP/1.1\" 200 -\n"
     ]
    },
    {
     "name": "stdout",
     "output_type": "stream",
     "text": [
      "[10.053252770996092, -3.5506010620117183, 0.5291185668945312, -6.595419847328245, 6.748091603053435, 0.1984732824427481, 0.6]\n"
     ]
    },
    {
     "name": "stderr",
     "output_type": "stream",
     "text": [
      "192.168.50.109 - - [06/Dec/2023 11:33:28] \"POST /inference HTTP/1.1\" 200 -\n"
     ]
    },
    {
     "name": "stdout",
     "output_type": "stream",
     "text": [
      "[10.158597644042969, -0.9050082275390624, 1.158793603515625, -9.748091603053435, 7.00763358778626, 0.9694656488549618, 0.55]\n"
     ]
    },
    {
     "name": "stderr",
     "output_type": "stream",
     "text": [
      "192.168.50.109 - - [06/Dec/2023 11:33:30] \"POST /inference HTTP/1.1\" 200 -\n"
     ]
    },
    {
     "name": "stdout",
     "output_type": "stream",
     "text": [
      "[10.141838232421874, -1.3263877197265623, 1.0582371337890624, -6.595419847328245, 5.282442748091603, 0.7022900763358778, 0.475]\n"
     ]
    },
    {
     "name": "stderr",
     "output_type": "stream",
     "text": [
      "192.168.50.109 - - [06/Dec/2023 11:33:33] \"POST /inference HTTP/1.1\" 200 -\n"
     ]
    },
    {
     "name": "stdout",
     "output_type": "stream",
     "text": [
      "[9.227253198242186, -0.8116343627929687, 0.086191259765625, -6.3816793893129775, 9.877862595419847, 3.6259541984732824, 0.625]\n"
     ]
    },
    {
     "name": "stderr",
     "output_type": "stream",
     "text": [
      "192.168.50.109 - - [06/Dec/2023 11:33:35] \"POST /inference HTTP/1.1\" 200 -\n"
     ]
    },
    {
     "name": "stdout",
     "output_type": "stream",
     "text": [
      "[12.638990563964843, -1.2210428466796874, 0.2346317626953125, -5.366412213740458, 10.557251908396946, 0.8549618320610687, 0.5]\n"
     ]
    },
    {
     "name": "stderr",
     "output_type": "stream",
     "text": [
      "192.168.50.109 - - [06/Dec/2023 11:33:37] \"POST /inference HTTP/1.1\" 200 -\n"
     ]
    },
    {
     "name": "stdout",
     "output_type": "stream",
     "text": [
      "[9.842563024902343, -1.7477672119140624, 0.40940848388671874, -7.534351145038168, 4.526717557251908, 1.3206106870229009, 0.525]\n"
     ]
    },
    {
     "name": "stderr",
     "output_type": "stream",
     "text": [
      "192.168.50.109 - - [06/Dec/2023 11:33:40] \"POST /inference HTTP/1.1\" 200 -\n"
     ]
    },
    {
     "name": "stdout",
     "output_type": "stream",
     "text": [
      "[10.237606298828124, -3.0454245117187497, 0.37828386230468747, -4.0534351145038165, 8.068702290076336, 3.4122137404580153, 0.65]\n"
     ]
    },
    {
     "name": "stderr",
     "output_type": "stream",
     "text": [
      "192.168.50.109 - - [06/Dec/2023 11:33:42] \"POST /inference HTTP/1.1\" 200 -\n"
     ]
    },
    {
     "name": "stdout",
     "output_type": "stream",
     "text": [
      "[9.955090502929687, -0.0718260498046875, 0.51714755859375, -5.061068702290076, 8.83969465648855, 1.3282442748091603, 0.475]\n"
     ]
    },
    {
     "name": "stderr",
     "output_type": "stream",
     "text": [
      "192.168.50.109 - - [06/Dec/2023 11:33:44] \"POST /inference HTTP/1.1\" 200 -\n"
     ]
    },
    {
     "name": "stdout",
     "output_type": "stream",
     "text": [
      "[9.552864624023437, -2.0566192260742184, 1.218648645019531, -4.465648854961832, 6.580152671755725, 0.9618320610687023, 0.5]\n"
     ]
    },
    {
     "name": "stderr",
     "output_type": "stream",
     "text": [
      "192.168.50.109 - - [06/Dec/2023 11:33:47] \"POST /inference HTTP/1.1\" 200 -\n"
     ]
    },
    {
     "name": "stdout",
     "output_type": "stream",
     "text": [
      "[10.414777221679687, -2.454056701660156, 0.201112939453125, -5.6183206106870225, 5.977099236641221, 1.2595419847328244, 0.6]\n"
     ]
    },
    {
     "name": "stderr",
     "output_type": "stream",
     "text": [
      "192.168.50.109 - - [06/Dec/2023 11:33:49] \"POST /inference HTTP/1.1\" 200 -\n"
     ]
    },
    {
     "name": "stdout",
     "output_type": "stream",
     "text": [
      "[9.490615380859374, -0.47165772705078124, 0.9145850341796874, -6.984732824427481, 7.488549618320611, 2.83206106870229, 0.5]\n"
     ]
    },
    {
     "name": "stderr",
     "output_type": "stream",
     "text": [
      "192.168.50.109 - - [06/Dec/2023 11:33:51] \"POST /inference HTTP/1.1\" 200 -\n"
     ]
    },
    {
     "name": "stdout",
     "output_type": "stream",
     "text": [
      "[9.87608184814453, 0.28730419921875, 0.8283937744140625, -6.595419847328245, 4.015267175572519, 2.49618320610687, 0.45]\n"
     ]
    },
    {
     "name": "stderr",
     "output_type": "stream",
     "text": [
      "192.168.50.109 - - [06/Dec/2023 11:33:54] \"POST /inference HTTP/1.1\" 200 -\n"
     ]
    },
    {
     "name": "stdout",
     "output_type": "stream",
     "text": [
      "[9.643844287109374, -2.518700146484375, 0.3447650390625, -8.366412213740459, 8.458015267175572, -1.0458015267175573, 0.55]\n"
     ]
    },
    {
     "name": "stderr",
     "output_type": "stream",
     "text": [
      "192.168.50.109 - - [06/Dec/2023 11:33:56] \"POST /inference HTTP/1.1\" 200 -\n"
     ]
    },
    {
     "name": "stdout",
     "output_type": "stream",
     "text": [
      "[9.45470235595703, -1.13006318359375, 1.1324573852539062, -5.519083969465649, 7.450381679389313, -0.16793893129770993, 0.5]\n"
     ]
    },
    {
     "name": "stderr",
     "output_type": "stream",
     "text": [
      "192.168.50.109 - - [06/Dec/2023 11:33:58] \"POST /inference HTTP/1.1\" 200 -\n"
     ]
    },
    {
     "name": "stdout",
     "output_type": "stream",
     "text": [
      "[9.356540087890625, -2.3032219970703123, 0.05027823486328125, -7.3893129770992365, 4.824427480916031, 0.05343511450381679, 0.45]\n"
     ]
    },
    {
     "name": "stderr",
     "output_type": "stream",
     "text": [
      "192.168.50.109 - - [06/Dec/2023 11:34:00] \"POST /inference HTTP/1.1\" 200 -\n"
     ]
    },
    {
     "name": "stdout",
     "output_type": "stream",
     "text": [
      "[12.516886279296875, -1.4245499877929686, 1.43652099609375, -7.122137404580153, 6.656488549618321, -1.083969465648855, 0.5]\n"
     ]
    },
    {
     "name": "stderr",
     "output_type": "stream",
     "text": [
      "192.168.50.109 - - [06/Dec/2023 11:34:03] \"POST /inference HTTP/1.1\" 200 -\n"
     ]
    },
    {
     "name": "stdout",
     "output_type": "stream",
     "text": [
      "[11.152191333007812, -1.5131354492187499, 0.97683427734375, -4.0534351145038165, 7.282442748091603, 4.641221374045801, 0.55]\n"
     ]
    },
    {
     "name": "stderr",
     "output_type": "stream",
     "text": [
      "192.168.50.109 - - [06/Dec/2023 11:34:05] \"POST /inference HTTP/1.1\" 200 -\n"
     ]
    },
    {
     "name": "stdout",
     "output_type": "stream",
     "text": [
      "[10.280701928710936, -0.948103857421875, 0.8882488159179687, -6.312977099236641, 10.114503816793894, 1.2213740458015268, 0.5]\n"
     ]
    },
    {
     "name": "stderr",
     "output_type": "stream",
     "text": [
      "192.168.50.109 - - [06/Dec/2023 11:34:07] \"POST /inference HTTP/1.1\" 200 -\n"
     ]
    },
    {
     "name": "stdout",
     "output_type": "stream",
     "text": [
      "[10.16338604736328, -0.8547299926757812, 0.4070142822265625, -7.450381679389313, 7.801526717557252, 0.9770992366412213, 0.45]\n"
     ]
    },
    {
     "name": "stderr",
     "output_type": "stream",
     "text": [
      "192.168.50.109 - - [06/Dec/2023 11:34:09] \"POST /inference HTTP/1.1\" 200 -\n"
     ]
    },
    {
     "name": "stdout",
     "output_type": "stream",
     "text": [
      "[10.263942517089843, -1.867477294921875, 0.6248866333007812, -6.175572519083969, 4.99236641221374, 2.50381679389313, 0.6]\n"
     ]
    },
    {
     "name": "stderr",
     "output_type": "stream",
     "text": [
      "192.168.50.109 - - [06/Dec/2023 11:34:12] \"POST /inference HTTP/1.1\" 200 -\n"
     ]
    },
    {
     "name": "stdout",
     "output_type": "stream",
     "text": [
      "[10.965443603515624, -1.6424223388671875, 0.5865794067382812, -3.9770992366412212, 7.488549618320611, 2.900763358778626, 0.475]\n"
     ]
    },
    {
     "name": "stderr",
     "output_type": "stream",
     "text": [
      "192.168.50.109 - - [06/Dec/2023 11:34:14] \"POST /inference HTTP/1.1\" 200 -\n"
     ]
    },
    {
     "name": "stdout",
     "output_type": "stream",
     "text": [
      "[11.84890401611328, -1.3742717529296875, 1.3838485595703125, -4.961832061068702, 4.763358778625954, 0.5648854961832062, 0.425]\n"
     ]
    },
    {
     "name": "stderr",
     "output_type": "stream",
     "text": [
      "192.168.50.109 - - [06/Dec/2023 11:34:16] \"POST /inference HTTP/1.1\" 200 -\n"
     ]
    },
    {
     "name": "stdout",
     "output_type": "stream",
     "text": [
      "[10.002974536132811, -2.530671154785156, 0.5913678100585937, -11.061068702290076, 5.854961832061068, -0.6259541984732825, 0.625]\n"
     ]
    },
    {
     "name": "stderr",
     "output_type": "stream",
     "text": [
      "192.168.50.109 - - [06/Dec/2023 11:34:19] \"POST /inference HTTP/1.1\" 200 -\n"
     ]
    },
    {
     "name": "stdout",
     "output_type": "stream",
     "text": [
      "[11.422736120605467, -0.9528922607421875, 0.5913678100585937, -9.48091603053435, 8.778625954198473, 0.08396946564885496, 0.475]\n"
     ]
    },
    {
     "name": "stderr",
     "output_type": "stream",
     "text": [
      "192.168.50.109 - - [06/Dec/2023 11:34:21] \"POST /inference HTTP/1.1\" 200 -\n"
     ]
    },
    {
     "name": "stdout",
     "output_type": "stream",
     "text": [
      "[9.062053283691405, -1.7453730102539062, 0.1197100830078125, -11.419847328244275, 4.396946564885496, 3.717557251908397, 0.45]\n"
     ]
    },
    {
     "name": "stderr",
     "output_type": "stream",
     "text": [
      "192.168.50.109 - - [06/Dec/2023 11:34:23] \"POST /inference HTTP/1.1\" 200 -\n"
     ]
    },
    {
     "name": "stdout",
     "output_type": "stream",
     "text": [
      "[9.950302099609374, -0.7685387329101562, 0.6536170532226562, -5.984732824427481, 7.259541984732825, 2.519083969465649, 0.65]\n"
     ]
    },
    {
     "name": "stderr",
     "output_type": "stream",
     "text": [
      "192.168.50.109 - - [06/Dec/2023 11:34:26] \"POST /inference HTTP/1.1\" 200 -\n"
     ]
    },
    {
     "name": "stdout",
     "output_type": "stream",
     "text": [
      "[9.952696301269532, -0.7996633544921875, 0.9457096557617187, -8.946564885496183, 6.213740458015267, 0.2748091603053435, 0.45]\n"
     ]
    },
    {
     "name": "stderr",
     "output_type": "stream",
     "text": [
      "192.168.50.109 - - [06/Dec/2023 11:34:28] \"POST /inference HTTP/1.1\" 200 -\n"
     ]
    },
    {
     "name": "stdout",
     "output_type": "stream",
     "text": [
      "[11.214440576171874, -1.9943699829101562, 0.3280056274414062, -7.549618320610687, 5.740458015267175, 1.3587786259541985, 0.45]\n"
     ]
    },
    {
     "name": "stderr",
     "output_type": "stream",
     "text": [
      "192.168.50.109 - - [06/Dec/2023 11:34:30] \"POST /inference HTTP/1.1\" 200 -\n"
     ]
    },
    {
     "name": "stdout",
     "output_type": "stream",
     "text": [
      "[10.144232434082031, 0.01915361328125, 1.0558429321289062, -2.9770992366412212, 9.564885496183207, 0.5419847328244275, 0.6]\n"
     ]
    },
    {
     "name": "stderr",
     "output_type": "stream",
     "text": [
      "192.168.50.109 - - [06/Dec/2023 11:34:32] \"POST /inference HTTP/1.1\" 200 -\n"
     ]
    },
    {
     "name": "stdout",
     "output_type": "stream",
     "text": [
      "[9.641450085449218, -1.7597382202148437, 1.2497732666015624, -5.076335877862595, 6.961832061068702, 0.022900763358778626, 0.425]\n"
     ]
    },
    {
     "name": "stderr",
     "output_type": "stream",
     "text": [
      "192.168.50.109 - - [06/Dec/2023 11:34:35] \"POST /inference HTTP/1.1\" 200 -\n"
     ]
    },
    {
     "name": "stdout",
     "output_type": "stream",
     "text": [
      "[9.0788126953125, -1.66636435546875, 0.8834604125976562, -4.961832061068702, 4.442748091603053, 1.2213740458015268, 0.475]\n"
     ]
    },
    {
     "name": "stderr",
     "output_type": "stream",
     "text": [
      "192.168.50.109 - - [06/Dec/2023 11:34:37] \"POST /inference HTTP/1.1\" 200 -\n"
     ]
    },
    {
     "name": "stdout",
     "output_type": "stream",
     "text": [
      "[8.623914379882812, -0.3711012573242187, 0.23223756103515625, -5.312977099236641, 8.931297709923664, 3.5114503816793894, 0.55]\n"
     ]
    },
    {
     "name": "stderr",
     "output_type": "stream",
     "text": [
      "192.168.50.109 - - [06/Dec/2023 11:34:39] \"POST /inference HTTP/1.1\" 200 -\n"
     ]
    },
    {
     "name": "stdout",
     "output_type": "stream",
     "text": [
      "[9.986215124511718, -1.5753846923828123, 0.7517793212890624, -6.854961832061068, 6.129770992366412, 1.3358778625954197, 0.275]\n"
     ]
    },
    {
     "name": "stderr",
     "output_type": "stream",
     "text": [
      "192.168.50.109 - - [06/Dec/2023 11:34:42] \"POST /inference HTTP/1.1\" 200 -\n"
     ]
    },
    {
     "name": "stdout",
     "output_type": "stream",
     "text": [
      "[10.345345373535155, -0.9433154541015625, 1.5370774658203123, -6.778625954198473, 5.6106870229007635, 1.4045801526717556, 0.275]\n"
     ]
    },
    {
     "name": "stderr",
     "output_type": "stream",
     "text": [
      "192.168.50.109 - - [06/Dec/2023 11:34:44] \"POST /inference HTTP/1.1\" 200 -\n"
     ]
    },
    {
     "name": "stdout",
     "output_type": "stream",
     "text": [
      "[9.873687646484374, -1.5059528442382812, 0.7493851196289062, -6.625954198473282, 6.6183206106870225, 1.1603053435114503, 0.1]\n"
     ]
    },
    {
     "name": "stderr",
     "output_type": "stream",
     "text": [
      "192.168.50.109 - - [06/Dec/2023 11:34:46] \"POST /inference HTTP/1.1\" 200 -\n"
     ]
    },
    {
     "name": "stdout",
     "output_type": "stream",
     "text": [
      "[10.395623608398436, -1.2832920898437499, 0.8738836059570312, -10.19083969465649, 9.442748091603054, 0.06870229007633588, 0.25]\n"
     ]
    },
    {
     "name": "stderr",
     "output_type": "stream",
     "text": [
      "192.168.50.109 - - [06/Dec/2023 11:34:48] \"POST /inference HTTP/1.1\" 200 -\n"
     ]
    },
    {
     "name": "stdout",
     "output_type": "stream",
     "text": [
      "[9.854534033203125, -1.2808978881835937, 0.7445967163085937, -9.106870229007633, 7.969465648854962, 0.9236641221374046, 0.675]\n"
     ]
    },
    {
     "name": "stderr",
     "output_type": "stream",
     "text": [
      "192.168.50.109 - - [06/Dec/2023 11:34:51] \"POST /inference HTTP/1.1\" 200 -\n"
     ]
    },
    {
     "name": "stdout",
     "output_type": "stream",
     "text": [
      "[10.1131078125, -0.0526724365234375, 0.622492431640625, -7.351145038167939, 9.32824427480916, 1.0916030534351144, 0.625]\n"
     ]
    },
    {
     "name": "stderr",
     "output_type": "stream",
     "text": [
      "192.168.50.109 - - [06/Dec/2023 11:34:53] \"POST /inference HTTP/1.1\" 200 -\n"
     ]
    },
    {
     "name": "stdout",
     "output_type": "stream",
     "text": [
      "[9.866505041503906, -0.19393033447265623, 0.8307879760742187, -8.618320610687023, 8.641221374045802, 0.4122137404580153, 0.65]\n"
     ]
    },
    {
     "name": "stderr",
     "output_type": "stream",
     "text": [
      "192.168.50.109 - - [06/Dec/2023 11:34:55] \"POST /inference HTTP/1.1\" 200 -\n"
     ]
    },
    {
     "name": "stdout",
     "output_type": "stream",
     "text": [
      "[10.149020837402343, 1.2306196533203124, 0.55545478515625, -9.572519083969466, 12.15267175572519, 3.50381679389313, 0.65]\n"
     ]
    },
    {
     "name": "stderr",
     "output_type": "stream",
     "text": [
      "192.168.50.109 - - [06/Dec/2023 11:34:58] \"POST /inference HTTP/1.1\" 200 -\n"
     ]
    },
    {
     "name": "stdout",
     "output_type": "stream",
     "text": [
      "[9.610325463867188, -2.1715409057617188, 0.5961562133789062, -6.106870229007634, 2.8396946564885495, 0.6946564885496184, 0.625]\n"
     ]
    },
    {
     "name": "stderr",
     "output_type": "stream",
     "text": [
      "192.168.50.109 - - [06/Dec/2023 11:35:00] \"POST /inference HTTP/1.1\" 200 -\n"
     ]
    },
    {
     "name": "stdout",
     "output_type": "stream",
     "text": [
      "[10.314220751953124, -1.20667763671875, 0.2705447875976562, -6.587786259541985, 9.053435114503817, 3.5801526717557253, 0.625]\n"
     ]
    },
    {
     "name": "stderr",
     "output_type": "stream",
     "text": [
      "192.168.50.109 - - [06/Dec/2023 11:35:02] \"POST /inference HTTP/1.1\" 200 -\n"
     ]
    },
    {
     "name": "stdout",
     "output_type": "stream",
     "text": [
      "[9.564835632324218, -0.5578489868164063, 0.7613561279296874, -8.045801526717558, 5.122137404580153, 1.6717557251908397, 0.65]\n"
     ]
    },
    {
     "name": "stderr",
     "output_type": "stream",
     "text": [
      "192.168.50.109 - - [06/Dec/2023 11:35:05] \"POST /inference HTTP/1.1\" 200 -\n"
     ]
    },
    {
     "name": "stdout",
     "output_type": "stream",
     "text": [
      "[9.871293444824218, -1.9297265380859374, 1.0319009155273438, -8.320610687022901, 4.412213740458015, 0.5725190839694656, 0.6]\n"
     ]
    },
    {
     "name": "stderr",
     "output_type": "stream",
     "text": [
      "192.168.50.109 - - [06/Dec/2023 11:35:07] \"POST /inference HTTP/1.1\" 200 -\n"
     ]
    },
    {
     "name": "stdout",
     "output_type": "stream",
     "text": [
      "[11.077971081542968, -0.33758243408203126, 0.5003881469726562, -3.7099236641221376, 10.51908396946565, 0.24427480916030533, 0.625]\n"
     ]
    },
    {
     "name": "stderr",
     "output_type": "stream",
     "text": [
      "192.168.50.109 - - [06/Dec/2023 11:35:09] \"POST /inference HTTP/1.1\" 200 -\n"
     ]
    },
    {
     "name": "stdout",
     "output_type": "stream",
     "text": [
      "[9.816226806640625, -0.9265560424804687, 0.8882488159179687, -7.748091603053435, 4.473282442748092, 1.1526717557251909, 0.675]\n"
     ]
    },
    {
     "name": "stderr",
     "output_type": "stream",
     "text": [
      "192.168.50.109 - - [06/Dec/2023 11:35:11] \"POST /inference HTTP/1.1\" 200 -\n"
     ]
    },
    {
     "name": "stdout",
     "output_type": "stream",
     "text": [
      "[9.816226806640625, 0.14125789794921875, 0.7637503295898437, -3.801526717557252, 8.259541984732824, 0.8015267175572519, 0.625]\n"
     ]
    },
    {
     "name": "stderr",
     "output_type": "stream",
     "text": [
      "192.168.50.109 - - [06/Dec/2023 11:35:14] \"POST /inference HTTP/1.1\" 200 -\n"
     ]
    },
    {
     "name": "stdout",
     "output_type": "stream",
     "text": [
      "[9.543287817382812, -2.858676782226562, 1.0797849487304687, -3.3435114503816794, 5.854961832061068, 0.5114503816793893, 0.6]\n"
     ]
    },
    {
     "name": "stderr",
     "output_type": "stream",
     "text": [
      "192.168.50.109 - - [06/Dec/2023 11:35:16] \"POST /inference HTTP/1.1\" 200 -\n"
     ]
    },
    {
     "name": "stdout",
     "output_type": "stream",
     "text": [
      "[10.295067138671874, -1.8339584716796873, 0.9193734375, -6.0534351145038165, 4.824427480916031, 0.0, 0.675]\n"
     ]
    },
    {
     "name": "stderr",
     "output_type": "stream",
     "text": [
      "192.168.50.109 - - [06/Dec/2023 11:35:18] \"POST /inference HTTP/1.1\" 200 -\n"
     ]
    },
    {
     "name": "stdout",
     "output_type": "stream",
     "text": [
      "[10.091559997558592, 0.009576806640625, 0.19153613281249998, -3.6259541984732824, 10.061068702290076, 1.8854961832061068, 0.6]\n"
     ]
    },
    {
     "name": "stderr",
     "output_type": "stream",
     "text": [
      "192.168.50.109 - - [06/Dec/2023 11:35:21] \"POST /inference HTTP/1.1\" 200 -\n"
     ]
    },
    {
     "name": "stdout",
     "output_type": "stream",
     "text": [
      "[10.460267053222656, 0.2537853759765625, 1.0845733520507812, -4.847328244274809, 8.290076335877863, 1.0229007633587786, 0.65]\n"
     ]
    },
    {
     "name": "stderr",
     "output_type": "stream",
     "text": [
      "192.168.50.109 - - [06/Dec/2023 11:35:23] \"POST /inference HTTP/1.1\" 200 -\n"
     ]
    },
    {
     "name": "stdout",
     "output_type": "stream",
     "text": [
      "[10.85291612548828, -0.5099649536132812, 0.5147533569335937, -11.259541984732824, 8.50381679389313, 2.854961832061069, 0.675]\n"
     ]
    },
    {
     "name": "stderr",
     "output_type": "stream",
     "text": [
      "192.168.50.109 - - [06/Dec/2023 11:35:25] \"POST /inference HTTP/1.1\" 200 -\n"
     ]
    },
    {
     "name": "stdout",
     "output_type": "stream",
     "text": [
      "[10.172962854003906, -0.7805097412109374, 1.158793603515625, -6.137404580152672, 8.83206106870229, 0.022900763358778626, 0.65]\n"
     ]
    },
    {
     "name": "stderr",
     "output_type": "stream",
     "text": [
      "192.168.50.109 - - [06/Dec/2023 11:35:28] \"POST /inference HTTP/1.1\" 200 -\n"
     ]
    },
    {
     "name": "stdout",
     "output_type": "stream",
     "text": [
      "[9.763554370117188, -1.5562310791015623, 0.5339069702148437, -4.061068702290076, 9.48091603053435, 3.595419847328244, 0.65]\n"
     ]
    },
    {
     "name": "stderr",
     "output_type": "stream",
     "text": [
      "192.168.50.109 - - [06/Dec/2023 11:35:30] \"POST /inference HTTP/1.1\" 200 -\n"
     ]
    },
    {
     "name": "stdout",
     "output_type": "stream",
     "text": [
      "[9.713276135253906, -1.0295067138671874, 0.7422025146484375, -5.396946564885496, 8.763358778625955, 0.7786259541984732, 0.625]\n"
     ]
    },
    {
     "name": "stderr",
     "output_type": "stream",
     "text": [
      "192.168.50.109 - - [06/Dec/2023 11:35:32] \"POST /inference HTTP/1.1\" 200 -\n"
     ]
    },
    {
     "name": "stdout",
     "output_type": "stream",
     "text": [
      "[10.103531005859374, -1.1156979736328125, 0.7709329345703124, -6.412213740458015, 7.061068702290076, 0.183206106870229, 0.65]\n"
     ]
    },
    {
     "name": "stderr",
     "output_type": "stream",
     "text": [
      "192.168.50.109 - - [06/Dec/2023 11:35:35] \"POST /inference HTTP/1.1\" 200 -\n"
     ]
    },
    {
     "name": "stdout",
     "output_type": "stream",
     "text": [
      "[10.333374365234375, -1.0965443603515623, 1.0726023437499999, -6.015267175572519, 6.450381679389313, -0.2366412213740458, 0.65]\n"
     ]
    },
    {
     "name": "stderr",
     "output_type": "stream",
     "text": [
      "192.168.50.109 - - [06/Dec/2023 11:35:37] \"POST /inference HTTP/1.1\" 200 -\n"
     ]
    },
    {
     "name": "stdout",
     "output_type": "stream",
     "text": [
      "[11.214440576171874, -0.6775590698242188, 0.9169792358398436, -9.664122137404581, 9.129770992366412, 3.885496183206107, 0.6]\n"
     ]
    },
    {
     "name": "stderr",
     "output_type": "stream",
     "text": [
      "192.168.50.109 - - [06/Dec/2023 11:35:39] \"POST /inference HTTP/1.1\" 200 -\n"
     ]
    },
    {
     "name": "stdout",
     "output_type": "stream",
     "text": [
      "[9.337386474609374, -1.4604630126953124, 0.59376201171875, -4.793893129770993, 5.916030534351145, 2.2442748091603053, 0.65]\n"
     ]
    },
    {
     "name": "stderr",
     "output_type": "stream",
     "text": [
      "192.168.50.109 - - [06/Dec/2023 11:35:42] \"POST /inference HTTP/1.1\" 200 -\n"
     ]
    },
    {
     "name": "stdout",
     "output_type": "stream",
     "text": [
      "[9.342174877929686, -2.6575638427734374, 0.3950432739257812, -7.7251908396946565, 3.984732824427481, 1.183206106870229, 0.65]\n"
     ]
    },
    {
     "name": "stderr",
     "output_type": "stream",
     "text": [
      "192.168.50.109 - - [06/Dec/2023 11:35:44] \"POST /inference HTTP/1.1\" 200 -\n"
     ]
    },
    {
     "name": "stdout",
     "output_type": "stream",
     "text": [
      "[9.787496386718749, -1.917755529785156, 0.5626373901367188, -9.267175572519085, 5.969465648854962, 1.3435114503816794, 0.625]\n"
     ]
    },
    {
     "name": "stderr",
     "output_type": "stream",
     "text": [
      "192.168.50.109 - - [06/Dec/2023 11:35:46] \"POST /inference HTTP/1.1\" 200 -\n"
     ]
    },
    {
     "name": "stdout",
     "output_type": "stream",
     "text": [
      "[8.501810095214843, -0.8882488159179687, 0.18435352783203124, -9.091603053435115, 6.732824427480916, 2.213740458015267, 0.725]\n"
     ]
    },
    {
     "name": "stderr",
     "output_type": "stream",
     "text": [
      "192.168.50.109 - - [06/Dec/2023 11:35:49] \"POST /inference HTTP/1.1\" 200 -\n"
     ]
    },
    {
     "name": "stdout",
     "output_type": "stream",
     "text": [
      "[11.135431921386719, -1.4317325927734375, 0.7757213378906249, -7.564885496183206, 6.442748091603053, 0.061068702290076333, 0.625]\n"
     ]
    },
    {
     "name": "stderr",
     "output_type": "stream",
     "text": [
      "192.168.50.109 - - [06/Dec/2023 11:35:51] \"POST /inference HTTP/1.1\" 200 -\n"
     ]
    },
    {
     "name": "stdout",
     "output_type": "stream",
     "text": [
      "[9.80665, -0.6631938598632812, 0.4908113403320312, -7.5038167938931295, 9.419847328244275, 3.0610687022900764, 0.65]\n"
     ]
    },
    {
     "name": "stderr",
     "output_type": "stream",
     "text": [
      "192.168.50.109 - - [06/Dec/2023 11:35:53] \"POST /inference HTTP/1.1\" 200 -\n"
     ]
    },
    {
     "name": "stdout",
     "output_type": "stream",
     "text": [
      "[9.964667309570311, -1.4796166259765624, 0.3232172241210937, -9.16793893129771, 4.213740458015267, 1.1526717557251909, 0.65]\n"
     ]
    },
    {
     "name": "stderr",
     "output_type": "stream",
     "text": [
      "192.168.50.109 - - [06/Dec/2023 11:35:56] \"POST /inference HTTP/1.1\" 200 -\n"
     ]
    },
    {
     "name": "stdout",
     "output_type": "stream",
     "text": [
      "[10.177751257324218, -1.5370774658203123, 0.488417138671875, -6.282442748091603, 6.221374045801527, 0.5114503816793893, 0.7]\n"
     ]
    },
    {
     "name": "stderr",
     "output_type": "stream",
     "text": [
      "192.168.50.109 - - [06/Dec/2023 11:35:58] \"POST /inference HTTP/1.1\" 200 -\n"
     ]
    },
    {
     "name": "stdout",
     "output_type": "stream",
     "text": [
      "[9.581595043945311, -2.559401574707031, 0.6631938598632812, -6.740458015267175, 5.442748091603053, 3.6564885496183206, 0.625]\n"
     ]
    },
    {
     "name": "stderr",
     "output_type": "stream",
     "text": [
      "192.168.50.109 - - [06/Dec/2023 11:36:00] \"POST /inference HTTP/1.1\" 200 -\n"
     ]
    },
    {
     "name": "stdout",
     "output_type": "stream",
     "text": [
      "[9.80665, -2.1739351074218747, 0.8858546142578124, -5.442748091603053, 4.320610687022901, 1.7786259541984732, 0.6]\n"
     ]
    },
    {
     "name": "stderr",
     "output_type": "stream",
     "text": [
      "192.168.50.109 - - [06/Dec/2023 11:36:03] \"POST /inference HTTP/1.1\" 200 -\n"
     ]
    },
    {
     "name": "stdout",
     "output_type": "stream",
     "text": [
      "[10.848127722167968, -0.9624690673828125, 0.5003881469726562, -4.427480916030534, 4.541984732824427, 0.17557251908396945, 0.65]\n"
     ]
    },
    {
     "name": "stderr",
     "output_type": "stream",
     "text": [
      "192.168.50.109 - - [06/Dec/2023 11:36:05] \"POST /inference HTTP/1.1\" 200 -\n"
     ]
    },
    {
     "name": "stdout",
     "output_type": "stream",
     "text": [
      "[9.777919580078125, -3.0214824951171875, 0.5889736083984375, -7.763358778625954, 4.022900763358779, 1.7404580152671756, 0.625]\n"
     ]
    },
    {
     "name": "stderr",
     "output_type": "stream",
     "text": [
      "192.168.50.109 - - [06/Dec/2023 11:36:07] \"POST /inference HTTP/1.1\" 200 -\n"
     ]
    },
    {
     "name": "stdout",
     "output_type": "stream",
     "text": [
      "[10.232817895507813, -0.8762778076171874, 0.63206923828125, -6.183206106870229, 8.572519083969466, 2.5877862595419847, 0.65]\n"
     ]
    },
    {
     "name": "stderr",
     "output_type": "stream",
     "text": [
      "192.168.50.109 - - [06/Dec/2023 11:36:10] \"POST /inference HTTP/1.1\" 200 -\n"
     ]
    },
    {
     "name": "stdout",
     "output_type": "stream",
     "text": [
      "[9.900023864746093, -3.1747114013671873, 0.6153098266601562, -8.67175572519084, 7.1679389312977095, -0.6641221374045801, 0.7]\n"
     ]
    },
    {
     "name": "stderr",
     "output_type": "stream",
     "text": [
      "192.168.50.109 - - [06/Dec/2023 11:36:12] \"POST /inference HTTP/1.1\" 200 -\n"
     ]
    },
    {
     "name": "stdout",
     "output_type": "stream",
     "text": [
      "[9.9981861328125, -2.4013842651367185, 1.2234370483398436, -7.175572519083969, -1.900763358778626, 1.2671755725190839, 0.675]\n"
     ]
    },
    {
     "name": "stderr",
     "output_type": "stream",
     "text": [
      "192.168.50.109 - - [06/Dec/2023 11:36:14] \"POST /inference HTTP/1.1\" 200 -\n"
     ]
    },
    {
     "name": "stdout",
     "output_type": "stream",
     "text": [
      "[10.594342346191405, 0.33758243408203126, 0.6177040283203125, -6.099236641221374, 8.954198473282442, 1.0305343511450382, 0.65]\n"
     ]
    },
    {
     "name": "stderr",
     "output_type": "stream",
     "text": [
      "192.168.50.109 - - [06/Dec/2023 11:36:17] \"POST /inference HTTP/1.1\" 200 -\n"
     ]
    },
    {
     "name": "stdout",
     "output_type": "stream",
     "text": [
      "[9.97184991455078, -1.4796166259765624, 0.7996633544921875, -3.595419847328244, 8.450381679389313, 1.2061068702290076, 0.65]\n"
     ]
    },
    {
     "name": "stderr",
     "output_type": "stream",
     "text": [
      "192.168.50.109 - - [06/Dec/2023 11:36:19] \"POST /inference HTTP/1.1\" 200 -\n"
     ]
    },
    {
     "name": "stdout",
     "output_type": "stream",
     "text": [
      "[9.519345800781249, -3.7229835815429686, 1.254561669921875, -0.732824427480916, 2.717557251908397, 1.6412213740458015, 0.65]\n"
     ]
    },
    {
     "name": "stderr",
     "output_type": "stream",
     "text": [
      "192.168.50.109 - - [06/Dec/2023 11:36:21] \"POST /inference HTTP/1.1\" 200 -\n"
     ]
    },
    {
     "name": "stdout",
     "output_type": "stream",
     "text": [
      "[9.842563024902343, -1.438915197753906, 0.16519991455078123, -11.687022900763358, 9.206106870229007, 2.5114503816793894, 0.65]\n"
     ]
    },
    {
     "name": "stderr",
     "output_type": "stream",
     "text": [
      "192.168.50.109 - - [06/Dec/2023 11:36:24] \"POST /inference HTTP/1.1\" 200 -\n"
     ]
    },
    {
     "name": "stdout",
     "output_type": "stream",
     "text": [
      "[10.81460889892578, -3.071760729980469, 0.5482721801757812, -11.885496183206106, 7.534351145038168, 2.33587786259542, 0.625]\n"
     ]
    },
    {
     "name": "stderr",
     "output_type": "stream",
     "text": [
      "192.168.50.109 - - [06/Dec/2023 11:36:26] \"POST /inference HTTP/1.1\" 200 -\n"
     ]
    },
    {
     "name": "stdout",
     "output_type": "stream",
     "text": [
      "[10.05564697265625, 0.040701428222656245, 1.5179238525390624, -2.931297709923664, 12.16030534351145, 0.25190839694656486, 0.675]\n"
     ]
    },
    {
     "name": "stderr",
     "output_type": "stream",
     "text": [
      "192.168.50.109 - - [06/Dec/2023 11:36:29] \"POST /inference HTTP/1.1\" 200 -\n"
     ]
    },
    {
     "name": "stdout",
     "output_type": "stream",
     "text": [
      "[9.952696301269532, -1.5801730957031248, 0.9504980590820312, -6.526717557251908, 3.984732824427481, 0.5648854961832062, 0.6]\n"
     ]
    },
    {
     "name": "stderr",
     "output_type": "stream",
     "text": [
      "192.168.50.109 - - [06/Dec/2023 11:36:31] \"POST /inference HTTP/1.1\" 200 -\n"
     ]
    },
    {
     "name": "stdout",
     "output_type": "stream",
     "text": [
      "[10.984597216796875, 0.3327940307617187, 0.5123591552734374, -7.641221374045801, 11.801526717557252, 1.9770992366412214, 0.65]\n"
     ]
    },
    {
     "name": "stderr",
     "output_type": "stream",
     "text": [
      "192.168.50.109 - - [06/Dec/2023 11:36:33] \"POST /inference HTTP/1.1\" 200 -\n"
     ]
    },
    {
     "name": "stdout",
     "output_type": "stream",
     "text": [
      "[9.935936889648437, -0.6488286499023437, 1.4628572143554686, -2.519083969465649, 3.549618320610687, -0.7709923664122137, 0.7]\n"
     ]
    },
    {
     "name": "stderr",
     "output_type": "stream",
     "text": [
      "192.168.50.109 - - [06/Dec/2023 11:36:36] \"POST /inference HTTP/1.1\" 200 -\n"
     ]
    },
    {
     "name": "stdout",
     "output_type": "stream",
     "text": [
      "[8.655039001464843, -1.6232687255859375, 0.1388636962890625, -6.824427480916031, 6.229007633587786, 0.7557251908396947, 0.625]\n"
     ]
    },
    {
     "name": "stderr",
     "output_type": "stream",
     "text": [
      "192.168.50.109 - - [06/Dec/2023 11:36:51] \"POST /inference HTTP/1.1\" 200 -\n"
     ]
    },
    {
     "name": "stdout",
     "output_type": "stream",
     "text": [
      "[10.09395419921875, -1.448492004394531, 0.7972691528320313, -6.8320610687022905, 6.694656488549619, 1.1068702290076335, 0.025]\n"
     ]
    },
    {
     "name": "stderr",
     "output_type": "stream",
     "text": [
      "192.168.50.109 - - [06/Dec/2023 11:36:53] \"POST /inference HTTP/1.1\" 200 -\n"
     ]
    },
    {
     "name": "stdout",
     "output_type": "stream",
     "text": [
      "[9.964667309570311, -1.5083470458984374, 0.74699091796875, -6.541984732824427, 6.648854961832061, 1.3587786259541985, 0.0]\n"
     ]
    },
    {
     "name": "stderr",
     "output_type": "stream",
     "text": [
      "192.168.50.109 - - [06/Dec/2023 11:36:55] \"POST /inference HTTP/1.1\" 200 -\n"
     ]
    },
    {
     "name": "stdout",
     "output_type": "stream",
     "text": [
      "[9.847351428222655, -1.3910311645507811, 0.5410895751953124, -6.709923664122138, 6.961832061068702, 1.083969465648855, 0.0]\n"
     ]
    },
    {
     "name": "stderr",
     "output_type": "stream",
     "text": [
      "192.168.50.109 - - [06/Dec/2023 11:36:58] \"POST /inference HTTP/1.1\" 200 -\n"
     ]
    },
    {
     "name": "stdout",
     "output_type": "stream",
     "text": [
      "[9.792284790039062, -1.8435352783203125, 0.74699091796875, -5.099236641221374, 7.679389312977099, 0.5801526717557252, 0.5]\n"
     ]
    },
    {
     "name": "stderr",
     "output_type": "stream",
     "text": [
      "192.168.50.109 - - [06/Dec/2023 11:37:00] \"POST /inference HTTP/1.1\" 200 -\n"
     ]
    },
    {
     "name": "stdout",
     "output_type": "stream",
     "text": [
      "[9.60793126220703, -0.5506663818359374, 0.8188169677734375, -7.442748091603053, 7.343511450381679, 0.6946564885496184, 0.65]\n"
     ]
    },
    {
     "name": "stderr",
     "output_type": "stream",
     "text": [
      "192.168.50.109 - - [06/Dec/2023 11:37:02] \"POST /inference HTTP/1.1\" 200 -\n"
     ]
    },
    {
     "name": "stdout",
     "output_type": "stream",
     "text": [
      "[10.989385620117186, -1.4772224243164063, 0.201112939453125, -8.946564885496183, 11.022900763358779, 3.427480916030534, 0.675]\n"
     ]
    },
    {
     "name": "stderr",
     "output_type": "stream",
     "text": [
      "192.168.50.109 - - [06/Dec/2023 11:37:05] \"POST /inference HTTP/1.1\" 200 -\n"
     ]
    },
    {
     "name": "stdout",
     "output_type": "stream",
     "text": [
      "[10.426748229980468, -0.21787235107421873, 0.8092401611328125, -6.427480916030534, 10.01526717557252, 3.1603053435114505, 0.625]\n"
     ]
    },
    {
     "name": "stderr",
     "output_type": "stream",
     "text": [
      "192.168.50.109 - - [06/Dec/2023 11:37:07] \"POST /inference HTTP/1.1\" 200 -\n"
     ]
    },
    {
     "name": "stdout",
     "output_type": "stream",
     "text": [
      "[9.576806640625, -3.8187516479492185, 0.5291185668945312, -7.854961832061068, 3.145038167938931, 0.8549618320610687, 0.65]\n"
     ]
    },
    {
     "name": "stderr",
     "output_type": "stream",
     "text": [
      "192.168.50.109 - - [06/Dec/2023 11:37:09] \"POST /inference HTTP/1.1\" 200 -\n"
     ]
    },
    {
     "name": "stdout",
     "output_type": "stream",
     "text": [
      "[9.471461767578125, -4.295197778320312, 0.5913678100585937, -11.312977099236642, -0.21374045801526717, 1.5419847328244274, 0.65]\n"
     ]
    },
    {
     "name": "stderr",
     "output_type": "stream",
     "text": [
      "192.168.50.109 - - [06/Dec/2023 11:37:12] \"POST /inference HTTP/1.1\" 200 -\n"
     ]
    },
    {
     "name": "stdout",
     "output_type": "stream",
     "text": [
      "[9.533711010742186, -1.0510545288085937, 1.1061211669921875, -4.9541984732824424, 4.114503816793893, 1.7251908396946565, 0.6]\n"
     ]
    },
    {
     "name": "stderr",
     "output_type": "stream",
     "text": [
      "192.168.50.109 - - [06/Dec/2023 11:37:14] \"POST /inference HTTP/1.1\" 200 -\n"
     ]
    },
    {
     "name": "stdout",
     "output_type": "stream",
     "text": [
      "[9.758765966796874, -1.0223241088867188, 0.19393033447265623, -9.251908396946565, 8.282442748091603, 2.6412213740458017, 0.65]\n"
     ]
    },
    {
     "name": "stderr",
     "output_type": "stream",
     "text": [
      "192.168.50.109 - - [06/Dec/2023 11:37:16] \"POST /inference HTTP/1.1\" 200 -\n"
     ]
    },
    {
     "name": "stdout",
     "output_type": "stream",
     "text": [
      "[9.516951599121093, -2.7557261108398436, 0.21068974609375, -9.122137404580153, 5.198473282442748, 0.8015267175572519, 0.675]\n"
     ]
    },
    {
     "name": "stderr",
     "output_type": "stream",
     "text": [
      "192.168.50.109 - - [06/Dec/2023 11:37:19] \"POST /inference HTTP/1.1\" 200 -\n"
     ]
    },
    {
     "name": "stdout",
     "output_type": "stream",
     "text": [
      "[9.504980590820312, -0.25139117431640623, 1.0726023437499999, -0.6030534351145038, 5.091603053435114, 1.083969465648855, 0.625]\n"
     ]
    },
    {
     "name": "stderr",
     "output_type": "stream",
     "text": [
      "192.168.50.109 - - [06/Dec/2023 11:37:21] \"POST /inference HTTP/1.1\" 200 -\n"
     ]
    },
    {
     "name": "stdout",
     "output_type": "stream",
     "text": [
      "[10.75714805908203, -1.1133037719726562, 1.4437036010742186, -6.0458015267175576, 2.50381679389313, 1.6946564885496183, 0.65]\n"
     ]
    },
    {
     "name": "stderr",
     "output_type": "stream",
     "text": [
      "192.168.50.109 - - [06/Dec/2023 11:37:23] \"POST /inference HTTP/1.1\" 200 -\n"
     ]
    },
    {
     "name": "stdout",
     "output_type": "stream",
     "text": [
      "[9.423577734375, -0.5506663818359374, 0.5770026000976562, -5.526717557251908, 11.709923664122137, 0.13740458015267176, 0.65]\n"
     ]
    },
    {
     "name": "stderr",
     "output_type": "stream",
     "text": [
      "192.168.50.109 - - [06/Dec/2023 11:37:26] \"POST /inference HTTP/1.1\" 200 -\n"
     ]
    },
    {
     "name": "stdout",
     "output_type": "stream",
     "text": [
      "[10.426748229980468, -0.5793968017578125, 0.34715924072265625, -3.312977099236641, 10.083969465648854, 1.6870229007633588, 0.65]\n"
     ]
    },
    {
     "name": "stderr",
     "output_type": "stream",
     "text": [
      "192.168.50.109 - - [06/Dec/2023 11:37:28] \"POST /inference HTTP/1.1\" 200 -\n"
     ]
    },
    {
     "name": "stdout",
     "output_type": "stream",
     "text": [
      "[11.068394274902342, -0.9361328491210937, 0.8762778076171874, -6.229007633587786, 5.931297709923665, 1.1908396946564885, 0.625]\n"
     ]
    },
    {
     "name": "stderr",
     "output_type": "stream",
     "text": [
      "192.168.50.109 - - [06/Dec/2023 11:37:30] \"POST /inference HTTP/1.1\" 200 -\n"
     ]
    },
    {
     "name": "stdout",
     "output_type": "stream",
     "text": [
      "[10.228029492187499, -0.9433154541015625, 0.3016694091796875, -6.0, 8.17557251908397, 1.0305343511450382, 0.675]\n"
     ]
    },
    {
     "name": "stderr",
     "output_type": "stream",
     "text": [
      "192.168.50.109 - - [06/Dec/2023 11:37:32] \"POST /inference HTTP/1.1\" 200 -\n"
     ]
    },
    {
     "name": "stdout",
     "output_type": "stream",
     "text": [
      "[10.1131078125, -1.908178723144531, 1.1563994018554686, -8.916030534351146, 5.748091603053435, -0.22900763358778625, 0.65]\n"
     ]
    },
    {
     "name": "stderr",
     "output_type": "stream",
     "text": [
      "192.168.50.109 - - [06/Dec/2023 11:37:41] \"POST /inference HTTP/1.1\" 200 -\n"
     ]
    },
    {
     "name": "stdout",
     "output_type": "stream",
     "text": [
      "[10.01733974609375, -1.714248388671875, 1.7453730102539062, -6.786259541984733, 1.702290076335878, -1.717557251908397, 0.675]\n"
     ]
    },
    {
     "name": "stderr",
     "output_type": "stream",
     "text": [
      "192.168.50.109 - - [06/Dec/2023 11:37:43] \"POST /inference HTTP/1.1\" 200 -\n"
     ]
    },
    {
     "name": "stdout",
     "output_type": "stream",
     "text": [
      "[10.335768566894531, -2.437297290039062, 1.16837041015625, -6.183206106870229, 5.854961832061068, -1.2061068702290076, 0.65]\n"
     ]
    },
    {
     "name": "stderr",
     "output_type": "stream",
     "text": [
      "192.168.50.109 - - [06/Dec/2023 11:37:45] \"POST /inference HTTP/1.1\" 200 -\n"
     ]
    },
    {
     "name": "stdout",
     "output_type": "stream",
     "text": [
      "[9.13627353515625, -1.85790048828125, 0.5123591552734374, -7.076335877862595, 5.488549618320611, -0.0916030534351145, 0.6]\n"
     ]
    },
    {
     "name": "stderr",
     "output_type": "stream",
     "text": [
      "192.168.50.109 - - [06/Dec/2023 11:37:48] \"POST /inference HTTP/1.1\" 200 -\n"
     ]
    },
    {
     "name": "stdout",
     "output_type": "stream",
     "text": [
      "[9.054870678710937, -0.7517793212890624, 0.3136404174804687, -4.465648854961832, 9.274809160305344, 1.16793893129771, 0.6]\n"
     ]
    },
    {
     "name": "stderr",
     "output_type": "stream",
     "text": [
      "192.168.50.109 - - [06/Dec/2023 11:37:50] \"POST /inference HTTP/1.1\" 200 -\n"
     ]
    },
    {
     "name": "stdout",
     "output_type": "stream",
     "text": [
      "[9.916783276367187, -1.5658078857421873, 0.42377369384765623, -5.297709923664122, 8.145038167938932, 0.6030534351145038, 0.675]\n"
     ]
    },
    {
     "name": "stderr",
     "output_type": "stream",
     "text": [
      "192.168.50.109 - - [06/Dec/2023 11:37:52] \"POST /inference HTTP/1.1\" 200 -\n"
     ]
    },
    {
     "name": "stdout",
     "output_type": "stream",
     "text": [
      "[10.556035119628906, -1.4891934326171874, 0.8954314208984374, -4.076335877862595, 7.5038167938931295, -1.0, 0.625]\n"
     ]
    },
    {
     "name": "stderr",
     "output_type": "stream",
     "text": [
      "192.168.50.109 - - [06/Dec/2023 11:37:55] \"POST /inference HTTP/1.1\" 200 -\n"
     ]
    },
    {
     "name": "stdout",
     "output_type": "stream",
     "text": [
      "[9.258377819824219, -1.8770541015625, 0.5315127685546874, -6.450381679389313, 6.122137404580153, 0.15267175572519084, 0.6]\n"
     ]
    },
    {
     "name": "stderr",
     "output_type": "stream",
     "text": [
      "192.168.50.109 - - [06/Dec/2023 11:37:57] \"POST /inference HTTP/1.1\" 200 -\n"
     ]
    },
    {
     "name": "stdout",
     "output_type": "stream",
     "text": [
      "[9.840168823242188, -0.9552864624023437, 0.9935936889648437, -7.6183206106870225, 4.129770992366412, 1.4427480916030535, 0.65]\n"
     ]
    },
    {
     "name": "stderr",
     "output_type": "stream",
     "text": [
      "192.168.50.109 - - [06/Dec/2023 11:37:59] \"POST /inference HTTP/1.1\" 200 -\n"
     ]
    },
    {
     "name": "stdout",
     "output_type": "stream",
     "text": [
      "[9.888052856445311, -2.142810485839844, 0.5315127685546874, -6.091603053435114, 4.068702290076335, 1.4809160305343512, 0.65]\n"
     ]
    },
    {
     "name": "stderr",
     "output_type": "stream",
     "text": [
      "192.168.50.109 - - [06/Dec/2023 11:38:02] \"POST /inference HTTP/1.1\" 200 -\n"
     ]
    },
    {
     "name": "stdout",
     "output_type": "stream",
     "text": [
      "[10.177751257324218, -1.216254443359375, 0.8786720092773437, -6.633587786259542, 4.427480916030534, 0.20610687022900764, 0.6]\n"
     ]
    },
    {
     "name": "stderr",
     "output_type": "stream",
     "text": [
      "192.168.50.109 - - [06/Dec/2023 11:38:04] \"POST /inference HTTP/1.1\" 200 -\n"
     ]
    },
    {
     "name": "stdout",
     "output_type": "stream",
     "text": [
      "[9.507374792480467, -0.5386953735351562, 0.814028564453125, -4.32824427480916, 7.801526717557252, 1.1374045801526718, 0.6]\n"
     ]
    },
    {
     "name": "stderr",
     "output_type": "stream",
     "text": [
      "192.168.50.109 - - [06/Dec/2023 11:38:06] \"POST /inference HTTP/1.1\" 200 -\n"
     ]
    },
    {
     "name": "stdout",
     "output_type": "stream",
     "text": [
      "[10.084377392578125, -0.27293898925781246, 1.0366893188476562, -3.0, 7.908396946564886, 0.5190839694656488, 0.7]\n"
     ]
    },
    {
     "name": "stderr",
     "output_type": "stream",
     "text": [
      "192.168.50.109 - - [06/Dec/2023 11:38:09] \"POST /inference HTTP/1.1\" 200 -\n"
     ]
    },
    {
     "name": "stdout",
     "output_type": "stream",
     "text": [
      "[10.1131078125, -0.7110778930664062, 0.8188169677734375, -4.022900763358779, 6.152671755725191, 0.7175572519083969, 0.625]\n"
     ]
    },
    {
     "name": "stderr",
     "output_type": "stream",
     "text": [
      "192.168.50.109 - - [06/Dec/2023 11:38:11] \"POST /inference HTTP/1.1\" 200 -\n"
     ]
    },
    {
     "name": "stdout",
     "output_type": "stream",
     "text": [
      "[11.920730065917969, 1.2282254516601563, -0.5051765502929687, -9.106870229007633, 24.33587786259542, 2.9236641221374047, 0.625]\n"
     ]
    },
    {
     "name": "stderr",
     "output_type": "stream",
     "text": [
      "192.168.50.109 - - [06/Dec/2023 11:38:18] \"POST /inference HTTP/1.1\" 200 -\n"
     ]
    },
    {
     "name": "stdout",
     "output_type": "stream",
     "text": [
      "[10.376469995117187, -1.3910311645507811, 1.216254443359375, -5.809160305343512, 5.450381679389313, 1.0763358778625953, 0.625]\n"
     ]
    },
    {
     "name": "stderr",
     "output_type": "stream",
     "text": [
      "192.168.50.109 - - [06/Dec/2023 11:38:20] \"POST /inference HTTP/1.1\" 200 -\n"
     ]
    },
    {
     "name": "stdout",
     "output_type": "stream",
     "text": [
      "[9.777919580078125, -2.2553379638671873, 0.6440402465820312, -7.0, 4.312977099236641, 2.5114503816793894, 0.7]\n"
     ]
    },
    {
     "name": "stderr",
     "output_type": "stream",
     "text": [
      "192.168.50.109 - - [06/Dec/2023 11:38:23] \"POST /inference HTTP/1.1\" 200 -\n"
     ]
    },
    {
     "name": "stdout",
     "output_type": "stream",
     "text": [
      "[9.883264453125, -3.0358477050781247, 1.0797849487304687, -7.351145038167939, 6.862595419847328, 1.5190839694656488, 0.625]\n"
     ]
    },
    {
     "name": "stderr",
     "output_type": "stream",
     "text": [
      "192.168.50.109 - - [06/Dec/2023 11:38:25] \"POST /inference HTTP/1.1\" 200 -\n"
     ]
    },
    {
     "name": "stdout",
     "output_type": "stream",
     "text": [
      "[9.751583361816406, -3.0693665283203124, 0.9265560424804687, -7.625954198473282, 3.3740458015267176, 2.427480916030534, 0.65]\n"
     ]
    },
    {
     "name": "stderr",
     "output_type": "stream",
     "text": [
      "192.168.50.109 - - [06/Dec/2023 11:38:27] \"POST /inference HTTP/1.1\" 200 -\n"
     ]
    },
    {
     "name": "stdout",
     "output_type": "stream",
     "text": [
      "[9.533711010742186, -1.2785036865234374, 0.3016694091796875, -6.534351145038168, 8.198473282442748, 2.687022900763359, 0.7]\n"
     ]
    },
    {
     "name": "stderr",
     "output_type": "stream",
     "text": [
      "192.168.50.109 - - [06/Dec/2023 11:38:30] \"POST /inference HTTP/1.1\" 200 -\n"
     ]
    },
    {
     "name": "stdout",
     "output_type": "stream",
     "text": [
      "[9.167398156738281, -2.365471240234375, 0.8499415893554687, -6.99236641221374, 8.854961832061068, 2.198473282442748, 0.675]\n"
     ]
    },
    {
     "name": "stderr",
     "output_type": "stream",
     "text": [
      "192.168.50.109 - - [06/Dec/2023 11:38:32] \"POST /inference HTTP/1.1\" 200 -\n"
     ]
    },
    {
     "name": "stdout",
     "output_type": "stream",
     "text": [
      "[9.641450085449218, -0.4860229370117187, 0.5458779785156249, -6.0, 9.50381679389313, 6.679389312977099, 0.65]\n"
     ]
    },
    {
     "name": "stderr",
     "output_type": "stream",
     "text": [
      "192.168.50.109 - - [06/Dec/2023 11:38:34] \"POST /inference HTTP/1.1\" 200 -\n"
     ]
    },
    {
     "name": "stdout",
     "output_type": "stream",
     "text": [
      "[9.969455712890625, -1.3742717529296875, 0.699106884765625, -6.450381679389313, 6.6106870229007635, 1.251908396946565, 0.075]\n"
     ]
    },
    {
     "name": "stderr",
     "output_type": "stream",
     "text": [
      "192.168.50.109 - - [06/Dec/2023 11:38:36] \"POST /inference HTTP/1.1\" 200 -\n"
     ]
    },
    {
     "name": "stdout",
     "output_type": "stream",
     "text": [
      "[10.038887561035155, -1.2832920898437499, 0.9002198242187499, -6.885496183206107, 5.648854961832061, 1.4427480916030535, 0.0]\n"
     ]
    },
    {
     "name": "stderr",
     "output_type": "stream",
     "text": [
      "192.168.50.109 - - [06/Dec/2023 11:38:39] \"POST /inference HTTP/1.1\" 200 -\n"
     ]
    },
    {
     "name": "stdout",
     "output_type": "stream",
     "text": [
      "[10.09395419921875, -1.3287819213867187, 0.7685387329101562, -6.3893129770992365, 6.755725190839694, 1.251908396946565, 0.0]\n"
     ]
    },
    {
     "name": "stderr",
     "output_type": "stream",
     "text": [
      "192.168.50.109 - - [06/Dec/2023 11:38:41] \"POST /inference HTTP/1.1\" 200 -\n"
     ]
    },
    {
     "name": "stdout",
     "output_type": "stream",
     "text": [
      "[10.342951171874999, -0.8906430175781249, 0.7733271362304687, -5.877862595419847, 7.2748091603053435, 1.534351145038168, 0.325]\n"
     ]
    },
    {
     "name": "stderr",
     "output_type": "stream",
     "text": [
      "192.168.50.109 - - [06/Dec/2023 11:38:43] \"POST /inference HTTP/1.1\" 200 -\n"
     ]
    },
    {
     "name": "stdout",
     "output_type": "stream",
     "text": [
      "[10.527304699707031, -0.9576806640625, 1.0630255371093749, -4.030534351145038, 7.343511450381679, -1.297709923664122, 0.4]\n"
     ]
    },
    {
     "name": "stderr",
     "output_type": "stream",
     "text": [
      "192.168.50.109 - - [06/Dec/2023 11:38:46] \"POST /inference HTTP/1.1\" 200 -\n"
     ]
    },
    {
     "name": "stdout",
     "output_type": "stream",
     "text": [
      "[8.779537487792968, -0.33758243408203126, 0.19871873779296872, -6.938931297709924, 8.351145038167939, -0.366412213740458, 0.25]\n"
     ]
    },
    {
     "name": "stderr",
     "output_type": "stream",
     "text": [
      "192.168.50.109 - - [06/Dec/2023 11:38:48] \"POST /inference HTTP/1.1\" 200 -\n"
     ]
    },
    {
     "name": "stdout",
     "output_type": "stream",
     "text": [
      "[10.089165795898436, -1.429338391113281, 1.0366893188476562, -7.0, 7.236641221374046, 1.0763358778625953, 0.45]\n"
     ]
    },
    {
     "name": "stderr",
     "output_type": "stream",
     "text": [
      "192.168.50.109 - - [06/Dec/2023 11:38:50] \"POST /inference HTTP/1.1\" 200 -\n"
     ]
    },
    {
     "name": "stdout",
     "output_type": "stream",
     "text": [
      "[10.984597216796875, -0.7350199096679687, 2.602497204589844, -7.694656488549619, 2.4732824427480917, 0.2366412213740458, 0.5]\n"
     ]
    },
    {
     "name": "stderr",
     "output_type": "stream",
     "text": [
      "192.168.50.109 - - [06/Dec/2023 11:38:53] \"POST /inference HTTP/1.1\" 200 -\n"
     ]
    },
    {
     "name": "stdout",
     "output_type": "stream",
     "text": [
      "[11.81777939453125, -0.5722141967773438, 1.1133037719726562, -6.404580152671755, 7.572519083969466, 2.1755725190839694, 0.25]\n"
     ]
    },
    {
     "name": "stderr",
     "output_type": "stream",
     "text": [
      "192.168.50.109 - - [06/Dec/2023 11:38:55] \"POST /inference HTTP/1.1\" 200 -\n"
     ]
    },
    {
     "name": "stdout",
     "output_type": "stream",
     "text": [
      "[7.673416320800781, -1.8507178833007811, 0.24660277099609373, -6.305343511450381, 5.916030534351145, -1.0076335877862594, 0.4]\n"
     ]
    },
    {
     "name": "stderr",
     "output_type": "stream",
     "text": [
      "192.168.50.109 - - [06/Dec/2023 11:38:57] \"POST /inference HTTP/1.1\" 200 -\n"
     ]
    },
    {
     "name": "stdout",
     "output_type": "stream",
     "text": [
      "[9.674968908691406, -1.43652099609375, 2.061407629394531, -6.893129770992366, 5.068702290076335, 0.7862595419847328, 0.6]\n"
     ]
    },
    {
     "name": "stderr",
     "output_type": "stream",
     "text": [
      "192.168.50.109 - - [06/Dec/2023 11:39:00] \"POST /inference HTTP/1.1\" 200 -\n"
     ]
    },
    {
     "name": "stdout",
     "output_type": "stream",
     "text": [
      "[9.165003955078124, 0.2561795776367187, 0.9361328491210937, -5.549618320610687, 4.763358778625954, 0.9007633587786259, 0.25]\n"
     ]
    },
    {
     "name": "stderr",
     "output_type": "stream",
     "text": [
      "192.168.50.109 - - [06/Dec/2023 11:39:02] \"POST /inference HTTP/1.1\" 200 -\n"
     ]
    },
    {
     "name": "stdout",
     "output_type": "stream",
     "text": [
      "[9.94072529296875, -1.3072341064453123, 0.7062894897460937, -6.67175572519084, 6.847328244274809, 1.0305343511450382, 0.3]\n"
     ]
    },
    {
     "name": "stderr",
     "output_type": "stream",
     "text": [
      "192.168.50.109 - - [06/Dec/2023 11:39:04] \"POST /inference HTTP/1.1\" 200 -\n"
     ]
    },
    {
     "name": "stdout",
     "output_type": "stream",
     "text": [
      "[9.981426721191406, -1.3646949462890625, 0.833182177734375, -6.519083969465649, 6.641221374045801, 1.2671755725190839, 0.0]\n"
     ]
    },
    {
     "name": "stderr",
     "output_type": "stream",
     "text": [
      "192.168.50.109 - - [06/Dec/2023 11:39:07] \"POST /inference HTTP/1.1\" 200 -\n"
     ]
    },
    {
     "name": "stdout",
     "output_type": "stream",
     "text": [
      "[9.823409411621093, -1.3646949462890625, 0.7350199096679687, -6.679389312977099, 6.66412213740458, 1.2595419847328244, 0.0]\n"
     ]
    },
    {
     "name": "stderr",
     "output_type": "stream",
     "text": [
      "192.168.50.109 - - [06/Dec/2023 11:39:09] \"POST /inference HTTP/1.1\" 200 -\n"
     ]
    },
    {
     "name": "stdout",
     "output_type": "stream",
     "text": [
      "[9.993397729492187, -1.3311761230468748, 0.7709329345703124, -6.67175572519084, 6.770992366412214, 1.1297709923664123, 0.0]\n"
     ]
    },
    {
     "name": "stderr",
     "output_type": "stream",
     "text": [
      "192.168.50.109 - - [06/Dec/2023 11:39:12] \"POST /inference HTTP/1.1\" 200 -\n"
     ]
    },
    {
     "name": "stdout",
     "output_type": "stream",
     "text": [
      "[9.962273107910155, -1.4030021728515625, 0.7350199096679687, -6.603053435114504, 6.786259541984733, 1.3435114503816794, 0.0]\n"
     ]
    },
    {
     "name": "stderr",
     "output_type": "stream",
     "text": [
      "192.168.50.109 - - [06/Dec/2023 11:39:14] \"POST /inference HTTP/1.1\" 200 -\n"
     ]
    },
    {
     "name": "stdout",
     "output_type": "stream",
     "text": [
      "[9.938331091308592, -1.3407529296874998, 0.7302315063476562, -6.427480916030534, 6.709923664122138, 1.3053435114503817, 0.0]\n"
     ]
    }
   ],
   "source": [
    "# Run up your Web API Server\n",
    "if __name__ == '__main__':\n",
    "    app.run(host='0.0.0.0',port=5000)"
   ]
  },
  {
   "cell_type": "code",
   "execution_count": null,
   "id": "eefd26ca",
   "metadata": {},
   "outputs": [],
   "source": []
  }
 ],
 "metadata": {
  "kernelspec": {
   "display_name": "Python 3 (ipykernel)",
   "language": "python",
   "name": "python3"
  },
  "language_info": {
   "codemirror_mode": {
    "name": "ipython",
    "version": 3
   },
   "file_extension": ".py",
   "mimetype": "text/x-python",
   "name": "python",
   "nbconvert_exporter": "python",
   "pygments_lexer": "ipython3",
   "version": "3.8.10"
  }
 },
 "nbformat": 4,
 "nbformat_minor": 5
}
