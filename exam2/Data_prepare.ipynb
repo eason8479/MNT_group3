{
 "cells": [
  {
   "cell_type": "markdown",
   "metadata": {},
   "source": [
    "# Prepare the Data For Training\n",
    "- Import require module\n",
    "- Import data\n",
    "- Prepare data\n",
    "- Save data as .csv file"
   ]
  },
  {
   "cell_type": "code",
   "execution_count": 3,
   "metadata": {},
   "outputs": [
    {
     "name": "stdout",
     "output_type": "stream",
     "text": [
      "x_train shape: torch.Size([720, 2])\n",
      "y_train shape: torch.Size([720, 3])\n",
      "x_test shape: torch.Size([180, 2])\n",
      "y_test shape: torch.Size([180, 3])\n"
     ]
    }
   ],
   "source": [
    "import numpy as np\n",
    "import torch\n",
    "import torch.nn.functional\n",
    "import pandas as pd\n",
    "\n",
    "# imprort data from data.csv as numpy array\n",
    "data = pd.read_csv('data.csv')      # read data from csv file\n",
    "data = data.to_numpy()              # convert data to numpy array\n",
    "\n",
    "# shuffle the data\n",
    "shuffle_idx = np.random.permutation(data.shape[0])\n",
    "data = data[shuffle_idx]\n",
    "\n",
    "# split data into x_data and y_data\n",
    "x_data = data[:, 0:2]              # get x_train from data\n",
    "y_data = data[:, 2:3]              # get y_train from data\n",
    "\n",
    "# turn data into torch tensor\n",
    "x_data = torch.from_numpy(x_data).to(torch.float32)\n",
    "y_data = torch.from_numpy(y_data).to(torch.float32)\n",
    "\n",
    "# one-hot encoding on y_data\n",
    "y_data = torch.nn.functional.one_hot(y_data.to(torch.int64))\n",
    "\n",
    "# split data into train and test(80% train, 20% test)\n",
    "num_points = x_data.shape[0]\n",
    "num_train = int(num_points*0.8)\n",
    "\n",
    "x_train = x_data[:num_train]\n",
    "y_train = y_data[:num_train]\n",
    "\n",
    "x_test = x_data[num_train:]\n",
    "y_test = y_data[num_train:]\n",
    "\n",
    "# sqyeeze x_train, x_test, y_train, and y_test\n",
    "x_train = torch.squeeze(x_train)\n",
    "x_test = torch.squeeze(x_test)\n",
    "y_train = torch.squeeze(y_train)\n",
    "y_test = torch.squeeze(y_test)\n",
    "\n",
    "# print out the shape of train and test data\n",
    "print('x_train shape:', x_train.shape)\n",
    "print('y_train shape:', y_train.shape)\n",
    "print('x_test shape:', x_test.shape)\n",
    "print('y_test shape:', y_test.shape)\n",
    "\n",
    "# save data into csv file\n",
    "np.savetxt('my_inputs.csv', x_train, delimiter=',')\n",
    "np.savetxt('my_labels.csv', y_train, delimiter=',')\n",
    "\n",
    "# save test data into csv file\n",
    "np.savetxt('my_test_inputs.csv', x_test, delimiter=',')\n",
    "np.savetxt('my_test_labels.csv', y_test, delimiter=',')\n"
   ]
  }
 ],
 "metadata": {
  "kernelspec": {
   "display_name": "Python 3",
   "language": "python",
   "name": "python3"
  },
  "language_info": {
   "codemirror_mode": {
    "name": "ipython",
    "version": 3
   },
   "file_extension": ".py",
   "mimetype": "text/x-python",
   "name": "python",
   "nbconvert_exporter": "python",
   "pygments_lexer": "ipython3",
   "version": "3.11.2"
  }
 },
 "nbformat": 4,
 "nbformat_minor": 2
}
