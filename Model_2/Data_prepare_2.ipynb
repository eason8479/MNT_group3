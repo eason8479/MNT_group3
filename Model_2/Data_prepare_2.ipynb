{
 "cells": [
  {
   "cell_type": "markdown",
   "metadata": {},
   "source": [
    "# Prepare the Data For Training\n",
    "- Import require module\n",
    "- Import data\n",
    "- Prepare data\n",
    "- Save data as .csv file"
   ]
  },
  {
   "cell_type": "code",
   "execution_count": 4,
   "metadata": {},
   "outputs": [],
   "source": [
    "# import data from 1121FinalProject.db\n",
    "import sqlite3\n",
    "\n",
    "DB_FILE = \"1121FinalProject.db\"\n",
    "\n",
    "db = sqlite3.connect(DB_FILE)\n",
    "c = db.cursor()\n",
    "\n",
    "# read Nozzle_Temperature, Plate_Temperature, X_axis_Angle, Y_axis_Angle, X, Y, Model, Successful as data\n",
    "def read_data_2():\n",
    "\n",
    "    command = \"SELECT [Nozzle Temperature], [Plate Temperature], [X-axis Angle], [Y-axis Angle], [Successful] FROM [3D Printer]\"\n",
    "    c.execute(command)\n",
    "    data = c.fetchall()\n",
    "    return data"
   ]
  },
  {
   "cell_type": "code",
   "execution_count": 7,
   "metadata": {},
   "outputs": [
    {
     "name": "stdout",
     "output_type": "stream",
     "text": [
      "data shape: (4486, 5)\n",
      "x_train shape: (3588, 4)\n",
      "y_train shape: (3588, 2)\n",
      "x_test shape: (898, 4)\n",
      "y_test shape: (898, 2)\n"
     ]
    }
   ],
   "source": [
    "import numpy as np\n",
    "import torch\n",
    "import torch.nn.functional\n",
    "import pandas as pd\n",
    "\n",
    "# read data from database\n",
    "data = read_data_2()\n",
    "\n",
    "# trun data into pandas dataframe\n",
    "data = pd.DataFrame(data)\n",
    "\n",
    "# shuffle the data\n",
    "data = data.sample(frac=1).reset_index(drop=True)\n",
    "\n",
    "# split data into x_data and y_data\n",
    "x_data = data.iloc[:, 0:4]\n",
    "y_data = data.iloc[:, 4]\n",
    "\n",
    "# one-hot encoding on y_data\n",
    "y_data = pd.get_dummies(y_data)\n",
    "\n",
    "# split data into train and test(80% train, 20% test)\n",
    "num_train = int(0.8 * len(data))\n",
    "\n",
    "x_train = x_data[:num_train]\n",
    "y_train = y_data[:num_train]\n",
    "\n",
    "x_test = x_data[num_train:]\n",
    "y_test = y_data[num_train:]\n",
    "\n",
    "# encoding on y_train and y_test(\"ture\" = 1, \"false\" = 0)\n",
    "y_train = y_train.astype(int)\n",
    "y_test = y_test.astype(int)\n",
    "\n",
    "# print out the shape of train and test data\n",
    "print('x_train shape:', x_train.shape)\n",
    "print('y_train shape:', y_train.shape)\n",
    "print('x_test shape:', x_test.shape)\n",
    "print('y_test shape:', y_test.shape)\n",
    "\n",
    "# save data into csv file\n",
    "# without index and title\n",
    "x_train.to_csv('x_train_2.csv', index=False, header=False)\n",
    "y_train.to_csv('y_train_2.csv', index=False, header=False)\n",
    "x_test.to_csv('x_test_2.csv', index=False, header=False)\n",
    "y_test.to_csv('y_test_2.csv', index=False, header=False)\n"
   ]
  }
 ],
 "metadata": {
  "kernelspec": {
   "display_name": "Python 3",
   "language": "python",
   "name": "python3"
  },
  "language_info": {
   "codemirror_mode": {
    "name": "ipython",
    "version": 3
   },
   "file_extension": ".py",
   "mimetype": "text/x-python",
   "name": "python",
   "nbconvert_exporter": "python",
   "pygments_lexer": "ipython3",
   "version": "3.11.2"
  }
 },
 "nbformat": 4,
 "nbformat_minor": 2
}
